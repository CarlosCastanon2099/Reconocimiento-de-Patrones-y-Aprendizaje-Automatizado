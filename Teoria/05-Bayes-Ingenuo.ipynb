{
 "cells": [
  {
   "cell_type": "markdown",
   "metadata": {
    "heading_collapsed": true
   },
   "source": [
    "## Supervisados"
   ]
  },
  {
   "cell_type": "markdown",
   "metadata": {
    "hidden": true
   },
   "source": [
    "$$\n",
    "h(x) \\\\\n",
    "x \\in \\{ (x,y) | x \\in \\mathcal{R^n}, y \\in \\{0,1\\}\\}\n",
    "$$"
   ]
  },
  {
   "cell_type": "markdown",
   "metadata": {
    "hidden": true
   },
   "source": [
    "$$\n",
    "E = \\{ (x,y) | x \\in \\mathcal{R^n}, y \\in \\{0,1\\}\\}\n",
    "$$"
   ]
  },
  {
   "cell_type": "markdown",
   "metadata": {
    "hidden": true
   },
   "source": []
  },
  {
   "cell_type": "markdown",
   "metadata": {},
   "source": [
    "## Teorema de Bayes"
   ]
  },
  {
   "cell_type": "code",
   "execution_count": null,
   "metadata": {},
   "outputs": [],
   "source": []
  },
  {
   "cell_type": "markdown",
   "metadata": {},
   "source": [
    "$$\n",
    "p(x_1, x_2 | C_k) = p(x_1|C_k) p(x_2|C_k)\n",
    "$$"
   ]
  },
  {
   "cell_type": "code",
   "execution_count": null,
   "metadata": {},
   "outputs": [],
   "source": []
  },
  {
   "cell_type": "markdown",
   "metadata": {},
   "source": [
    "$$\n",
    "\\begin{align}\n",
    "p(C_k |x_1, x_2)  &= \\frac{p(C_k) p(x_1,x_2|C_k)} {p(x_1,x_2)}  \\\\\n",
    "                  &= \\frac{p(C_k) \\prod_j p(x_j|C_k)} {p(x_1,x_2)} \\\\\n",
    "                  & \\propto {p(C_k) \\prod_j p(x_j | C_k)}  \\\\ \n",
    "\\end{align} \n",
    "$$\n",
    "\n",
    "$$\n",
    "p(C_k |x_1, x_2)  = \\frac {p(C_k) \\prod_j p(x_j | C_k)} {\\sum_i p(C_k) \\prod_j p(x_j | C_k)} \n",
    "$$\n",
    "\n",
    "\n",
    "$$\n",
    "C = \\operatorname{argmax}_k {p(C_k) \\prod_j p(x_j | C_k) }\n",
    "$$"
   ]
  },
  {
   "cell_type": "markdown",
   "metadata": {},
   "source": [
    "$$\n",
    "P(E_i | H) = \\frac {P(H|E_i) P(E_i)} {P(H)}  = \\frac {P(H|E_i) P(E_i)} {\\sum_j P(H|E_j) P(E_j)}\n",
    "$$"
   ]
  },
  {
   "cell_type": "markdown",
   "metadata": {},
   "source": [
    "E = evento de ser defectuoso\n",
    "\n",
    "M = máquina 1\n",
    "\n",
    "N = máquina 2\n",
    "$$\n",
    "P( N| D ) = \\frac {P(D|N) P(N)} {P(D|N) P(N) + P(D|\\neg N) P(\\neg N)} = \\frac {0.05 \\cdot 0.4} {(0.05 \\cdot 0.4) + (0.03 \\cdot 0.6)} = 10/19 = 0.526\n",
    "$$\n"
   ]
  },
  {
   "cell_type": "markdown",
   "metadata": {},
   "source": [
    "A \n",
    "\n",
    "B\n",
    "\n",
    "C\n",
    "\n",
    "$P(D|A) = 0.05 ;  P(A) = 0.2$\n",
    "\n",
    "$P(D|B) = 0.03 ;  P(B) = 0.3$\n",
    "\n",
    "$P(D|C) = 0.01 ; P(C) = 0.5  $\n",
    "\n",
    "$P(D|A) = 0.05   P(D|B) = 0.03       P(D|C) = 0.01$"
   ]
  },
  {
   "cell_type": "code",
   "execution_count": 1,
   "metadata": {},
   "outputs": [
    {
     "data": {
      "text/plain": [
       "0.20833333333333331"
      ]
     },
     "execution_count": 1,
     "metadata": {},
     "output_type": "execute_result"
    }
   ],
   "source": [
    "p = (.5 * 0.01) / (.2*.05 + .3*0.03 + .5 * 0.01) \n",
    "p\n"
   ]
  },
  {
   "cell_type": "code",
   "execution_count": 2,
   "metadata": {},
   "outputs": [
    {
     "data": {
      "text/plain": [
       "(0.20833333333333334, 0.5263157894736842)"
      ]
     },
     "execution_count": 2,
     "metadata": {},
     "output_type": "execute_result"
    }
   ],
   "source": [
    "5/24, 10/19"
   ]
  },
  {
   "cell_type": "markdown",
   "metadata": {},
   "source": [
    "$$P(C | D) = \\frac{ (.5 * 0.01)} {(.2*.05 + .3*0.03 + .5 * 0.01) } = \\frac{5}{24} = 0.204$$"
   ]
  },
  {
   "cell_type": "markdown",
   "metadata": {},
   "source": [
    "N = No estoy bien\n",
    "\n",
    "D = Test salió Positivo\n",
    "\n",
    "$$\n",
    "P( N| D ) = \\frac {P(D|N) P(N)} {P(D|N) P(N) + P(D|\\neg N) P(\\neg N)} = \\frac {0.99 \\cdot 0.001} {(0.99 \\cdot 0.001) + (0.999 \\cdot 0.01)} = 0.09\n",
    "$$\n",
    "\n",
    "$$\n",
    "P( N| D ) = \\frac {P(D|N) P(N)} {P(D|N) P(N) + P(D|\\neg N) P(\\neg N)} = \\frac {0.99 \\cdot 0.09} {(0.99 \\cdot 0.09) + (0.01 \\cdot 0.91)} = 0.90\n",
    "$$"
   ]
  },
  {
   "cell_type": "markdown",
   "metadata": {},
   "source": []
  },
  {
   "cell_type": "code",
   "execution_count": 3,
   "metadata": {},
   "outputs": [
    {
     "data": {
      "text/plain": [
       "0.9073319755600815"
      ]
     },
     "execution_count": 3,
     "metadata": {},
     "output_type": "execute_result"
    }
   ],
   "source": [
    "like = 0.99 \n",
    "pe = 0.09\n",
    "\n",
    "num = like*pe\n",
    "\n",
    "comp = 0.01*0.91\n",
    "pT = num + comp\n",
    "\n",
    "preal = num / pT\n",
    "preal"
   ]
  },
  {
   "cell_type": "markdown",
   "metadata": {},
   "source": [
    "### Ejemplo de Bayes ingenuo"
   ]
  },
  {
   "cell_type": "code",
   "execution_count": 226,
   "metadata": {},
   "outputs": [],
   "source": [
    "from sklearn.datasets import make_classification\n",
    "from sklearn.model_selection import train_test_split\n",
    "from sklearn.metrics import classification_report, confusion_matrix\n",
    "from sklearn.naive_bayes import GaussianNB\n",
    "\n",
    "from scipy.stats import norm\n",
    "import matplotlib.pyplot as plt\n",
    "import pandas as pd\n",
    "import seaborn as sns\n",
    "import matplotlib.pyplot as plt\n",
    "\n",
    "from sklearn.metrics import (\n",
    "    accuracy_score,\n",
    "    confusion_matrix,\n",
    "    ConfusionMatrixDisplay,\n",
    "    f1_score,\n",
    ")\n",
    "\n",
    "X, y = make_classification(\n",
    "    n_features=6,\n",
    "    n_classes=3,\n",
    "    n_samples=800,\n",
    "    n_informative=2,\n",
    "    random_state=1,\n",
    "    n_clusters_per_class=1,\n",
    ")"
   ]
  },
  {
   "cell_type": "code",
   "execution_count": 5,
   "metadata": {},
   "outputs": [
    {
     "data": {
      "image/png": "[encoded data removed]",
      "text/plain": [
       "<Figure size 432x288 with 1 Axes>"
      ]
     },
     "metadata": {
      "needs_background": "light"
     },
     "output_type": "display_data"
    }
   ],
   "source": [
    "\n",
    "plt.scatter(X[:, 0], X[:, 1], c=y, marker=\"*\");"
   ]
  },
  {
   "cell_type": "code",
   "execution_count": 6,
   "metadata": {},
   "outputs": [],
   "source": [
    "\n",
    "\n",
    "X_train, X_test, y_train, y_test = train_test_split(\n",
    "    X, y, test_size=0.33, random_state=125\n",
    ")"
   ]
  },
  {
   "cell_type": "code",
   "execution_count": 7,
   "metadata": {},
   "outputs": [
    {
     "name": "stdout",
     "output_type": "stream",
     "text": [
      "Actual:  0\n",
      "Predicción: 0\n"
     ]
    }
   ],
   "source": [
    "\n",
    "\n",
    "model = GaussianNB()\n",
    "\n",
    "model.fit(X_train, y_train)\n",
    "\n",
    "predicted = model.predict([X_test[6]])\n",
    "\n",
    "print(\"Actual: \", y_test[6])\n",
    "print(\"Predicción:\", predicted[0])"
   ]
  },
  {
   "cell_type": "code",
   "execution_count": 8,
   "metadata": {},
   "outputs": [
    {
     "name": "stdout",
     "output_type": "stream",
     "text": [
      "Accuracy: 0.8484848484848485\n",
      "F1 : 0.8491119695890328\n"
     ]
    }
   ],
   "source": [
    "y_pred = model.predict(X_test)\n",
    "accuray = accuracy_score(y_pred, y_test)\n",
    "f1 = f1_score(y_pred, y_test, average=\"weighted\")\n",
    "\n",
    "print(\"Accuracy:\", accuray)\n",
    "print(\"F1 :\", f1)"
   ]
  },
  {
   "cell_type": "markdown",
   "metadata": {},
   "source": [
    "### Ejemplo 2"
   ]
  },
  {
   "cell_type": "code",
   "execution_count": null,
   "metadata": {},
   "outputs": [],
   "source": []
  },
  {
   "cell_type": "code",
   "execution_count": 9,
   "metadata": {},
   "outputs": [
    {
     "data": {
      "text/html": [
       "<div>\n",
       "<style scoped>\n",
       "    .dataframe tbody tr th:only-of-type {\n",
       "        vertical-align: middle;\n",
       "    }\n",
       "\n",
       "    .dataframe tbody tr th {\n",
       "        vertical-align: top;\n",
       "    }\n",
       "\n",
       "    .dataframe thead th {\n",
       "        text-align: right;\n",
       "    }\n",
       "</style>\n",
       "<table border=\"1\" class=\"dataframe\">\n",
       "  <thead>\n",
       "    <tr style=\"text-align: right;\">\n",
       "      <th></th>\n",
       "      <th>credit.policy</th>\n",
       "      <th>purpose</th>\n",
       "      <th>int.rate</th>\n",
       "      <th>installment</th>\n",
       "      <th>log.annual.inc</th>\n",
       "      <th>dti</th>\n",
       "      <th>fico</th>\n",
       "      <th>days.with.cr.line</th>\n",
       "      <th>revol.bal</th>\n",
       "      <th>revol.util</th>\n",
       "      <th>inq.last.6mths</th>\n",
       "      <th>delinq.2yrs</th>\n",
       "      <th>pub.rec</th>\n",
       "      <th>not.fully.paid</th>\n",
       "    </tr>\n",
       "  </thead>\n",
       "  <tbody>\n",
       "    <tr>\n",
       "      <th>5935</th>\n",
       "      <td>1</td>\n",
       "      <td>debt_consolidation</td>\n",
       "      <td>0.1565</td>\n",
       "      <td>279.89</td>\n",
       "      <td>10.751499</td>\n",
       "      <td>15.52</td>\n",
       "      <td>662</td>\n",
       "      <td>4110.041667</td>\n",
       "      <td>11310</td>\n",
       "      <td>63.5</td>\n",
       "      <td>2</td>\n",
       "      <td>0</td>\n",
       "      <td>0</td>\n",
       "      <td>0</td>\n",
       "    </tr>\n",
       "    <tr>\n",
       "      <th>1085</th>\n",
       "      <td>1</td>\n",
       "      <td>credit_card</td>\n",
       "      <td>0.0976</td>\n",
       "      <td>128.62</td>\n",
       "      <td>9.392662</td>\n",
       "      <td>9.60</td>\n",
       "      <td>707</td>\n",
       "      <td>1320.000000</td>\n",
       "      <td>3987</td>\n",
       "      <td>31.9</td>\n",
       "      <td>1</td>\n",
       "      <td>0</td>\n",
       "      <td>0</td>\n",
       "      <td>0</td>\n",
       "    </tr>\n",
       "    <tr>\n",
       "      <th>3307</th>\n",
       "      <td>1</td>\n",
       "      <td>home_improvement</td>\n",
       "      <td>0.1347</td>\n",
       "      <td>508.84</td>\n",
       "      <td>11.170491</td>\n",
       "      <td>18.84</td>\n",
       "      <td>682</td>\n",
       "      <td>7920.000000</td>\n",
       "      <td>34645</td>\n",
       "      <td>61.0</td>\n",
       "      <td>0</td>\n",
       "      <td>0</td>\n",
       "      <td>0</td>\n",
       "      <td>0</td>\n",
       "    </tr>\n",
       "  </tbody>\n",
       "</table>\n",
       "</div>"
      ],
      "text/plain": [
       "      credit.policy             purpose  int.rate  installment  \\\n",
       "5935              1  debt_consolidation    0.1565       279.89   \n",
       "1085              1         credit_card    0.0976       128.62   \n",
       "3307              1    home_improvement    0.1347       508.84   \n",
       "\n",
       "      log.annual.inc    dti  fico  days.with.cr.line  revol.bal  revol.util  \\\n",
       "5935       10.751499  15.52   662        4110.041667      11310        63.5   \n",
       "1085        9.392662   9.60   707        1320.000000       3987        31.9   \n",
       "3307       11.170491  18.84   682        7920.000000      34645        61.0   \n",
       "\n",
       "      inq.last.6mths  delinq.2yrs  pub.rec  not.fully.paid  \n",
       "5935               2            0        0               0  \n",
       "1085               1            0        0               0  \n",
       "3307               0            0        0               0  "
      ]
     },
     "execution_count": 9,
     "metadata": {},
     "output_type": "execute_result"
    }
   ],
   "source": [
    "df = pd.read_csv('../Yandex.Disk/Z_datasets/loan_data.csv', )\n",
    "df.sample(3)"
   ]
  },
  {
   "cell_type": "code",
   "execution_count": 10,
   "metadata": {},
   "outputs": [
    {
     "name": "stdout",
     "output_type": "stream",
     "text": [
      "<class 'pandas.core.frame.DataFrame'>\n",
      "RangeIndex: 9578 entries, 0 to 9577\n",
      "Data columns (total 14 columns):\n",
      " #   Column             Non-Null Count  Dtype  \n",
      "---  ------             --------------  -----  \n",
      " 0   credit.policy      9578 non-null   int64  \n",
      " 1   purpose            9578 non-null   object \n",
      " 2   int.rate           9578 non-null   float64\n",
      " 3   installment        9578 non-null   float64\n",
      " 4   log.annual.inc     9578 non-null   float64\n",
      " 5   dti                9578 non-null   float64\n",
      " 6   fico               9578 non-null   int64  \n",
      " 7   days.with.cr.line  9578 non-null   float64\n",
      " 8   revol.bal          9578 non-null   int64  \n",
      " 9   revol.util         9578 non-null   float64\n",
      " 10  inq.last.6mths     9578 non-null   int64  \n",
      " 11  delinq.2yrs        9578 non-null   int64  \n",
      " 12  pub.rec            9578 non-null   int64  \n",
      " 13  not.fully.paid     9578 non-null   int64  \n",
      "dtypes: float64(6), int64(7), object(1)\n",
      "memory usage: 1.0+ MB\n"
     ]
    }
   ],
   "source": [
    "df.info()"
   ]
  },
  {
   "cell_type": "code",
   "execution_count": 18,
   "metadata": {},
   "outputs": [
    {
     "data": {
      "image/png": "[encoded data removed]",
      "text/plain": [
       "<Figure size 432x288 with 1 Axes>"
      ]
     },
     "metadata": {
      "needs_background": "light"
     },
     "output_type": "display_data"
    }
   ],
   "source": [
    "sns.countplot(data=df,x='purpose',hue='not.fully.paid')\n",
    "plt.xticks(rotation=45, ha='right');"
   ]
  },
  {
   "cell_type": "code",
   "execution_count": 12,
   "metadata": {},
   "outputs": [
    {
     "data": {
      "text/html": [
       "<div>\n",
       "<style scoped>\n",
       "    .dataframe tbody tr th:only-of-type {\n",
       "        vertical-align: middle;\n",
       "    }\n",
       "\n",
       "    .dataframe tbody tr th {\n",
       "        vertical-align: top;\n",
       "    }\n",
       "\n",
       "    .dataframe thead th {\n",
       "        text-align: right;\n",
       "    }\n",
       "</style>\n",
       "<table border=\"1\" class=\"dataframe\">\n",
       "  <thead>\n",
       "    <tr style=\"text-align: right;\">\n",
       "      <th></th>\n",
       "      <th>credit.policy</th>\n",
       "      <th>int.rate</th>\n",
       "      <th>installment</th>\n",
       "      <th>log.annual.inc</th>\n",
       "      <th>dti</th>\n",
       "      <th>fico</th>\n",
       "      <th>days.with.cr.line</th>\n",
       "      <th>revol.bal</th>\n",
       "      <th>revol.util</th>\n",
       "      <th>inq.last.6mths</th>\n",
       "      <th>delinq.2yrs</th>\n",
       "      <th>pub.rec</th>\n",
       "      <th>not.fully.paid</th>\n",
       "      <th>purpose_credit_card</th>\n",
       "      <th>purpose_debt_consolidation</th>\n",
       "      <th>purpose_educational</th>\n",
       "      <th>purpose_home_improvement</th>\n",
       "      <th>purpose_major_purchase</th>\n",
       "      <th>purpose_small_business</th>\n",
       "    </tr>\n",
       "  </thead>\n",
       "  <tbody>\n",
       "    <tr>\n",
       "      <th>0</th>\n",
       "      <td>1</td>\n",
       "      <td>0.1189</td>\n",
       "      <td>829.10</td>\n",
       "      <td>11.350407</td>\n",
       "      <td>19.48</td>\n",
       "      <td>737</td>\n",
       "      <td>5639.958333</td>\n",
       "      <td>28854</td>\n",
       "      <td>52.1</td>\n",
       "      <td>0</td>\n",
       "      <td>0</td>\n",
       "      <td>0</td>\n",
       "      <td>0</td>\n",
       "      <td>0</td>\n",
       "      <td>1</td>\n",
       "      <td>0</td>\n",
       "      <td>0</td>\n",
       "      <td>0</td>\n",
       "      <td>0</td>\n",
       "    </tr>\n",
       "    <tr>\n",
       "      <th>1</th>\n",
       "      <td>1</td>\n",
       "      <td>0.1071</td>\n",
       "      <td>228.22</td>\n",
       "      <td>11.082143</td>\n",
       "      <td>14.29</td>\n",
       "      <td>707</td>\n",
       "      <td>2760.000000</td>\n",
       "      <td>33623</td>\n",
       "      <td>76.7</td>\n",
       "      <td>0</td>\n",
       "      <td>0</td>\n",
       "      <td>0</td>\n",
       "      <td>0</td>\n",
       "      <td>1</td>\n",
       "      <td>0</td>\n",
       "      <td>0</td>\n",
       "      <td>0</td>\n",
       "      <td>0</td>\n",
       "      <td>0</td>\n",
       "    </tr>\n",
       "    <tr>\n",
       "      <th>2</th>\n",
       "      <td>1</td>\n",
       "      <td>0.1357</td>\n",
       "      <td>366.86</td>\n",
       "      <td>10.373491</td>\n",
       "      <td>11.63</td>\n",
       "      <td>682</td>\n",
       "      <td>4710.000000</td>\n",
       "      <td>3511</td>\n",
       "      <td>25.6</td>\n",
       "      <td>1</td>\n",
       "      <td>0</td>\n",
       "      <td>0</td>\n",
       "      <td>0</td>\n",
       "      <td>0</td>\n",
       "      <td>1</td>\n",
       "      <td>0</td>\n",
       "      <td>0</td>\n",
       "      <td>0</td>\n",
       "      <td>0</td>\n",
       "    </tr>\n",
       "    <tr>\n",
       "      <th>3</th>\n",
       "      <td>1</td>\n",
       "      <td>0.1008</td>\n",
       "      <td>162.34</td>\n",
       "      <td>11.350407</td>\n",
       "      <td>8.10</td>\n",
       "      <td>712</td>\n",
       "      <td>2699.958333</td>\n",
       "      <td>33667</td>\n",
       "      <td>73.2</td>\n",
       "      <td>1</td>\n",
       "      <td>0</td>\n",
       "      <td>0</td>\n",
       "      <td>0</td>\n",
       "      <td>0</td>\n",
       "      <td>1</td>\n",
       "      <td>0</td>\n",
       "      <td>0</td>\n",
       "      <td>0</td>\n",
       "      <td>0</td>\n",
       "    </tr>\n",
       "    <tr>\n",
       "      <th>4</th>\n",
       "      <td>1</td>\n",
       "      <td>0.1426</td>\n",
       "      <td>102.92</td>\n",
       "      <td>11.299732</td>\n",
       "      <td>14.97</td>\n",
       "      <td>667</td>\n",
       "      <td>4066.000000</td>\n",
       "      <td>4740</td>\n",
       "      <td>39.5</td>\n",
       "      <td>0</td>\n",
       "      <td>1</td>\n",
       "      <td>0</td>\n",
       "      <td>0</td>\n",
       "      <td>1</td>\n",
       "      <td>0</td>\n",
       "      <td>0</td>\n",
       "      <td>0</td>\n",
       "      <td>0</td>\n",
       "      <td>0</td>\n",
       "    </tr>\n",
       "  </tbody>\n",
       "</table>\n",
       "</div>"
      ],
      "text/plain": [
       "   credit.policy  int.rate  installment  log.annual.inc    dti  fico  \\\n",
       "0              1    0.1189       829.10       11.350407  19.48   737   \n",
       "1              1    0.1071       228.22       11.082143  14.29   707   \n",
       "2              1    0.1357       366.86       10.373491  11.63   682   \n",
       "3              1    0.1008       162.34       11.350407   8.10   712   \n",
       "4              1    0.1426       102.92       11.299732  14.97   667   \n",
       "\n",
       "   days.with.cr.line  revol.bal  revol.util  inq.last.6mths  delinq.2yrs  \\\n",
       "0        5639.958333      28854        52.1               0            0   \n",
       "1        2760.000000      33623        76.7               0            0   \n",
       "2        4710.000000       3511        25.6               1            0   \n",
       "3        2699.958333      33667        73.2               1            0   \n",
       "4        4066.000000       4740        39.5               0            1   \n",
       "\n",
       "   pub.rec  not.fully.paid  purpose_credit_card  purpose_debt_consolidation  \\\n",
       "0        0               0                    0                           1   \n",
       "1        0               0                    1                           0   \n",
       "2        0               0                    0                           1   \n",
       "3        0               0                    0                           1   \n",
       "4        0               0                    1                           0   \n",
       "\n",
       "   purpose_educational  purpose_home_improvement  purpose_major_purchase  \\\n",
       "0                    0                         0                       0   \n",
       "1                    0                         0                       0   \n",
       "2                    0                         0                       0   \n",
       "3                    0                         0                       0   \n",
       "4                    0                         0                       0   \n",
       "\n",
       "   purpose_small_business  \n",
       "0                       0  \n",
       "1                       0  \n",
       "2                       0  \n",
       "3                       0  \n",
       "4                       0  "
      ]
     },
     "execution_count": 12,
     "metadata": {},
     "output_type": "execute_result"
    }
   ],
   "source": [
    "pre_df = pd.get_dummies(df,columns=['purpose'],drop_first=True)\n",
    "pre_df.head()"
   ]
  },
  {
   "cell_type": "code",
   "execution_count": 19,
   "metadata": {},
   "outputs": [],
   "source": [
    "X = pre_df.drop('not.fully.paid', axis=1)\n",
    "y = pre_df['not.fully.paid']\n",
    "\n",
    "X_train, X_test, y_train, y_test = train_test_split(\n",
    "    X, y, test_size=0.33, random_state=125\n",
    ")"
   ]
  },
  {
   "cell_type": "code",
   "execution_count": 22,
   "metadata": {},
   "outputs": [],
   "source": [
    "clf = GaussianNB()\n",
    "\n",
    "clf.fit(X_train, y_train);"
   ]
  },
  {
   "cell_type": "code",
   "execution_count": 23,
   "metadata": {},
   "outputs": [
    {
     "name": "stdout",
     "output_type": "stream",
     "text": [
      "Accuracy: 0.8206263840556786\n",
      "F1 : 0.8686606980013266\n"
     ]
    }
   ],
   "source": [
    "y_pred = clf.predict(X_test)\n",
    "\n",
    "accuray = accuracy_score(y_pred, y_test)\n",
    "f1 = f1_score(y_pred, y_test, average=\"weighted\")\n",
    "\n",
    "print(\"Accuracy:\", accuray)\n",
    "print(\"F1 :\", f1)"
   ]
  },
  {
   "cell_type": "code",
   "execution_count": 24,
   "metadata": {},
   "outputs": [
    {
     "data": {
      "text/plain": [
       "0.8206263840556786"
      ]
     },
     "execution_count": 24,
     "metadata": {},
     "output_type": "execute_result"
    }
   ],
   "source": [
    "clf.score(X_test, y_test)"
   ]
  },
  {
   "cell_type": "code",
   "execution_count": 25,
   "metadata": {},
   "outputs": [
    {
     "data": {
      "text/plain": [
       "array([[2544,  486],\n",
       "       [  81,   50]])"
      ]
     },
     "execution_count": 25,
     "metadata": {},
     "output_type": "execute_result"
    }
   ],
   "source": [
    "confusion_matrix(y_pred, y_test)"
   ]
  },
  {
   "cell_type": "code",
   "execution_count": 26,
   "metadata": {},
   "outputs": [
    {
     "name": "stdout",
     "output_type": "stream",
     "text": [
      "              precision    recall  f1-score   support\n",
      "\n",
      "           0       0.84      0.97      0.90      2625\n",
      "           1       0.38      0.09      0.15       536\n",
      "\n",
      "    accuracy                           0.82      3161\n",
      "   macro avg       0.61      0.53      0.52      3161\n",
      "weighted avg       0.76      0.82      0.77      3161\n",
      "\n"
     ]
    }
   ],
   "source": [
    "print(classification_report(y_pred=y_pred, y_true=y_test))"
   ]
  },
  {
   "cell_type": "markdown",
   "metadata": {},
   "source": [
    "## Implementación"
   ]
  },
  {
   "cell_type": "markdown",
   "metadata": {},
   "source": [
    "Como parte de nuestra implementación vamos a considerar que el clasificador bayesiano ingenuo se calcula a partir de\n",
    "\n",
    "$$\n",
    "P(y| x_1, x_2, \\ldots, x_n) \\propto P(y) \\prod_i P(x_i | y)\n",
    "$$\n",
    "\n",
    "Es decir, lo que queremos encontrar es alguna característica $x_i$ que maximice a la instancia $y$. Un **supuesto** importante que haremos es que nuestros atributos se distribuyen normalmente."
   ]
  },
  {
   "cell_type": "markdown",
   "metadata": {
    "heading_collapsed": true
   },
   "source": [
    "### Previo"
   ]
  },
  {
   "cell_type": "code",
   "execution_count": 527,
   "metadata": {
    "hidden": true
   },
   "outputs": [
    {
     "data": {
      "text/html": [
       "<div>\n",
       "<style scoped>\n",
       "    .dataframe tbody tr th:only-of-type {\n",
       "        vertical-align: middle;\n",
       "    }\n",
       "\n",
       "    .dataframe tbody tr th {\n",
       "        vertical-align: top;\n",
       "    }\n",
       "\n",
       "    .dataframe thead th {\n",
       "        text-align: right;\n",
       "    }\n",
       "</style>\n",
       "<table border=\"1\" class=\"dataframe\">\n",
       "  <thead>\n",
       "    <tr style=\"text-align: right;\">\n",
       "      <th></th>\n",
       "      <th>Height (cm)</th>\n",
       "      <th>Waist Circumference (cm)</th>\n",
       "      <th>Systolic Blood Pressure (mmHg)</th>\n",
       "      <th>Weight (kg)</th>\n",
       "      <th>Age (years)</th>\n",
       "      <th>clasificacion</th>\n",
       "    </tr>\n",
       "  </thead>\n",
       "  <tbody>\n",
       "    <tr>\n",
       "      <th>0</th>\n",
       "      <td>189</td>\n",
       "      <td>86</td>\n",
       "      <td>128</td>\n",
       "      <td>69</td>\n",
       "      <td>25</td>\n",
       "      <td>0</td>\n",
       "    </tr>\n",
       "    <tr>\n",
       "      <th>1</th>\n",
       "      <td>175</td>\n",
       "      <td>88</td>\n",
       "      <td>137</td>\n",
       "      <td>93</td>\n",
       "      <td>43</td>\n",
       "      <td>0</td>\n",
       "    </tr>\n",
       "    <tr>\n",
       "      <th>2</th>\n",
       "      <td>167</td>\n",
       "      <td>94</td>\n",
       "      <td>131</td>\n",
       "      <td>91</td>\n",
       "      <td>20</td>\n",
       "      <td>0</td>\n",
       "    </tr>\n",
       "    <tr>\n",
       "      <th>3</th>\n",
       "      <td>179</td>\n",
       "      <td>77</td>\n",
       "      <td>111</td>\n",
       "      <td>89</td>\n",
       "      <td>20</td>\n",
       "      <td>0</td>\n",
       "    </tr>\n",
       "    <tr>\n",
       "      <th>4</th>\n",
       "      <td>167</td>\n",
       "      <td>80</td>\n",
       "      <td>113</td>\n",
       "      <td>67</td>\n",
       "      <td>47</td>\n",
       "      <td>0</td>\n",
       "    </tr>\n",
       "    <tr>\n",
       "      <th>5</th>\n",
       "      <td>183</td>\n",
       "      <td>90</td>\n",
       "      <td>130</td>\n",
       "      <td>95</td>\n",
       "      <td>46</td>\n",
       "      <td>0</td>\n",
       "    </tr>\n",
       "    <tr>\n",
       "      <th>6</th>\n",
       "      <td>174</td>\n",
       "      <td>90</td>\n",
       "      <td>111</td>\n",
       "      <td>69</td>\n",
       "      <td>58</td>\n",
       "      <td>0</td>\n",
       "    </tr>\n",
       "    <tr>\n",
       "      <th>7</th>\n",
       "      <td>177</td>\n",
       "      <td>96</td>\n",
       "      <td>129</td>\n",
       "      <td>61</td>\n",
       "      <td>66</td>\n",
       "      <td>0</td>\n",
       "    </tr>\n",
       "    <tr>\n",
       "      <th>8</th>\n",
       "      <td>171</td>\n",
       "      <td>90</td>\n",
       "      <td>131</td>\n",
       "      <td>72</td>\n",
       "      <td>22</td>\n",
       "      <td>0</td>\n",
       "    </tr>\n",
       "    <tr>\n",
       "      <th>9</th>\n",
       "      <td>180</td>\n",
       "      <td>99</td>\n",
       "      <td>125</td>\n",
       "      <td>81</td>\n",
       "      <td>52</td>\n",
       "      <td>0</td>\n",
       "    </tr>\n",
       "    <tr>\n",
       "      <th>10</th>\n",
       "      <td>171</td>\n",
       "      <td>74</td>\n",
       "      <td>127</td>\n",
       "      <td>51</td>\n",
       "      <td>32</td>\n",
       "      <td>1</td>\n",
       "    </tr>\n",
       "    <tr>\n",
       "      <th>11</th>\n",
       "      <td>164</td>\n",
       "      <td>72</td>\n",
       "      <td>101</td>\n",
       "      <td>76</td>\n",
       "      <td>66</td>\n",
       "      <td>1</td>\n",
       "    </tr>\n",
       "    <tr>\n",
       "      <th>12</th>\n",
       "      <td>151</td>\n",
       "      <td>81</td>\n",
       "      <td>123</td>\n",
       "      <td>54</td>\n",
       "      <td>32</td>\n",
       "      <td>1</td>\n",
       "    </tr>\n",
       "    <tr>\n",
       "      <th>13</th>\n",
       "      <td>151</td>\n",
       "      <td>66</td>\n",
       "      <td>103</td>\n",
       "      <td>60</td>\n",
       "      <td>59</td>\n",
       "      <td>1</td>\n",
       "    </tr>\n",
       "    <tr>\n",
       "      <th>14</th>\n",
       "      <td>150</td>\n",
       "      <td>77</td>\n",
       "      <td>105</td>\n",
       "      <td>53</td>\n",
       "      <td>60</td>\n",
       "      <td>1</td>\n",
       "    </tr>\n",
       "    <tr>\n",
       "      <th>15</th>\n",
       "      <td>173</td>\n",
       "      <td>69</td>\n",
       "      <td>122</td>\n",
       "      <td>69</td>\n",
       "      <td>42</td>\n",
       "      <td>1</td>\n",
       "    </tr>\n",
       "    <tr>\n",
       "      <th>16</th>\n",
       "      <td>155</td>\n",
       "      <td>81</td>\n",
       "      <td>120</td>\n",
       "      <td>49</td>\n",
       "      <td>49</td>\n",
       "      <td>1</td>\n",
       "    </tr>\n",
       "    <tr>\n",
       "      <th>17</th>\n",
       "      <td>156</td>\n",
       "      <td>79</td>\n",
       "      <td>128</td>\n",
       "      <td>74</td>\n",
       "      <td>36</td>\n",
       "      <td>1</td>\n",
       "    </tr>\n",
       "    <tr>\n",
       "      <th>18</th>\n",
       "      <td>155</td>\n",
       "      <td>61</td>\n",
       "      <td>116</td>\n",
       "      <td>62</td>\n",
       "      <td>47</td>\n",
       "      <td>1</td>\n",
       "    </tr>\n",
       "    <tr>\n",
       "      <th>19</th>\n",
       "      <td>165</td>\n",
       "      <td>65</td>\n",
       "      <td>128</td>\n",
       "      <td>65</td>\n",
       "      <td>67</td>\n",
       "      <td>1</td>\n",
       "    </tr>\n",
       "  </tbody>\n",
       "</table>\n",
       "</div>"
      ],
      "text/plain": [
       "    Height (cm)  Waist Circumference (cm)  Systolic Blood Pressure (mmHg)  \\\n",
       "0           189                        86                             128   \n",
       "1           175                        88                             137   \n",
       "2           167                        94                             131   \n",
       "3           179                        77                             111   \n",
       "4           167                        80                             113   \n",
       "5           183                        90                             130   \n",
       "6           174                        90                             111   \n",
       "7           177                        96                             129   \n",
       "8           171                        90                             131   \n",
       "9           180                        99                             125   \n",
       "10          171                        74                             127   \n",
       "11          164                        72                             101   \n",
       "12          151                        81                             123   \n",
       "13          151                        66                             103   \n",
       "14          150                        77                             105   \n",
       "15          173                        69                             122   \n",
       "16          155                        81                             120   \n",
       "17          156                        79                             128   \n",
       "18          155                        61                             116   \n",
       "19          165                        65                             128   \n",
       "\n",
       "    Weight (kg)  Age (years)  clasificacion  \n",
       "0            69           25              0  \n",
       "1            93           43              0  \n",
       "2            91           20              0  \n",
       "3            89           20              0  \n",
       "4            67           47              0  \n",
       "5            95           46              0  \n",
       "6            69           58              0  \n",
       "7            61           66              0  \n",
       "8            72           22              0  \n",
       "9            81           52              0  \n",
       "10           51           32              1  \n",
       "11           76           66              1  \n",
       "12           54           32              1  \n",
       "13           60           59              1  \n",
       "14           53           60              1  \n",
       "15           69           42              1  \n",
       "16           49           49              1  \n",
       "17           74           36              1  \n",
       "18           62           47              1  \n",
       "19           65           67              1  "
      ]
     },
     "execution_count": 527,
     "metadata": {},
     "output_type": "execute_result"
    }
   ],
   "source": [
    "## imports\n",
    "import numpy as np\n",
    "import pandas as pd\n",
    "from scipy.stats import norm\n",
    "\n",
    "import matplotlib.pyplot as plt\n",
    "import seaborn as sns\n",
    "\n",
    "## dataset\n",
    "num_filas = 100\n",
    "\n",
    "# Genera datos aleatorios para cinco columnas discretas\n",
    "\n",
    "data_men = {\n",
    "    #'Gender': ['Male'] * 10,\n",
    "    'Height (cm)': np.random.randint(165, 190, 10),\n",
    "    'Waist Circumference (cm)': np.random.randint(75, 100, 10),\n",
    "    'Systolic Blood Pressure (mmHg)': np.random.randint(110, 140, 10),\n",
    "    'Weight (kg)': np.random.randint(60, 100, 10),\n",
    "    'Age (years)': np.random.randint(20, 70, 10),\n",
    "    'clasificacion': [0] *10\n",
    "}\n",
    "\n",
    "# Create a dictionary with sample data for women\n",
    "data_women = {\n",
    "    #'Gender': ['Female'] * 10,\n",
    "    'Height (cm)': np.random.randint(150, 175, 10),  # Adjusted range for women\n",
    "    'Waist Circumference (cm)': np.random.randint(60, 85, 10),  # Adjusted range for women\n",
    "    'Systolic Blood Pressure (mmHg)': np.random.randint(100, 130, 10),  # Adjusted range for women\n",
    "    'Weight (kg)': np.random.randint(45, 80, 10),  # Adjusted range for women\n",
    "    'Age (years)': np.random.randint(20, 70, 10),\n",
    "    'clasificacion': [1] *10\n",
    "}\n",
    "\n",
    "# Create DataFrames for men and women\n",
    "df_men = pd.DataFrame(data_men)\n",
    "df_women = pd.DataFrame(data_women)\n",
    "\n",
    "# Concatenate the DataFrames to create the final dataset\n",
    "df = pd.concat([df_men, df_women], ignore_index=True)\n",
    "\n",
    "df"
   ]
  },
  {
   "cell_type": "code",
   "execution_count": 533,
   "metadata": {
    "hidden": true
   },
   "outputs": [
    {
     "name": "stdout",
     "output_type": "stream",
     "text": [
      "['Height (cm)', 'Waist Circumference (cm)', 'Systolic Blood Pressure (mmHg)', 'Weight (kg)', 'Age (years)']\n",
      "clasificacion\n"
     ]
    },
    {
     "data": {
      "text/html": [
       "<div>\n",
       "<style scoped>\n",
       "    .dataframe tbody tr th:only-of-type {\n",
       "        vertical-align: middle;\n",
       "    }\n",
       "\n",
       "    .dataframe tbody tr th {\n",
       "        vertical-align: top;\n",
       "    }\n",
       "\n",
       "    .dataframe thead th {\n",
       "        text-align: right;\n",
       "    }\n",
       "</style>\n",
       "<table border=\"1\" class=\"dataframe\">\n",
       "  <thead>\n",
       "    <tr style=\"text-align: right;\">\n",
       "      <th></th>\n",
       "      <th>Height (cm)</th>\n",
       "      <th>Waist Circumference (cm)</th>\n",
       "      <th>Systolic Blood Pressure (mmHg)</th>\n",
       "      <th>Weight (kg)</th>\n",
       "      <th>Age (years)</th>\n",
       "    </tr>\n",
       "  </thead>\n",
       "  <tbody>\n",
       "    <tr>\n",
       "      <th>0</th>\n",
       "      <td>166</td>\n",
       "      <td>75</td>\n",
       "      <td>116</td>\n",
       "      <td>81</td>\n",
       "      <td>36</td>\n",
       "    </tr>\n",
       "    <tr>\n",
       "      <th>1</th>\n",
       "      <td>170</td>\n",
       "      <td>89</td>\n",
       "      <td>135</td>\n",
       "      <td>94</td>\n",
       "      <td>44</td>\n",
       "    </tr>\n",
       "    <tr>\n",
       "      <th>2</th>\n",
       "      <td>166</td>\n",
       "      <td>98</td>\n",
       "      <td>135</td>\n",
       "      <td>80</td>\n",
       "      <td>65</td>\n",
       "    </tr>\n",
       "    <tr>\n",
       "      <th>3</th>\n",
       "      <td>181</td>\n",
       "      <td>76</td>\n",
       "      <td>127</td>\n",
       "      <td>66</td>\n",
       "      <td>35</td>\n",
       "    </tr>\n",
       "    <tr>\n",
       "      <th>4</th>\n",
       "      <td>166</td>\n",
       "      <td>92</td>\n",
       "      <td>118</td>\n",
       "      <td>70</td>\n",
       "      <td>54</td>\n",
       "    </tr>\n",
       "    <tr>\n",
       "      <th>5</th>\n",
       "      <td>181</td>\n",
       "      <td>99</td>\n",
       "      <td>114</td>\n",
       "      <td>85</td>\n",
       "      <td>35</td>\n",
       "    </tr>\n",
       "    <tr>\n",
       "      <th>6</th>\n",
       "      <td>167</td>\n",
       "      <td>82</td>\n",
       "      <td>123</td>\n",
       "      <td>90</td>\n",
       "      <td>29</td>\n",
       "    </tr>\n",
       "    <tr>\n",
       "      <th>7</th>\n",
       "      <td>179</td>\n",
       "      <td>84</td>\n",
       "      <td>137</td>\n",
       "      <td>69</td>\n",
       "      <td>42</td>\n",
       "    </tr>\n",
       "    <tr>\n",
       "      <th>8</th>\n",
       "      <td>187</td>\n",
       "      <td>93</td>\n",
       "      <td>113</td>\n",
       "      <td>94</td>\n",
       "      <td>50</td>\n",
       "    </tr>\n",
       "    <tr>\n",
       "      <th>9</th>\n",
       "      <td>176</td>\n",
       "      <td>93</td>\n",
       "      <td>133</td>\n",
       "      <td>71</td>\n",
       "      <td>21</td>\n",
       "    </tr>\n",
       "    <tr>\n",
       "      <th>10</th>\n",
       "      <td>153</td>\n",
       "      <td>60</td>\n",
       "      <td>106</td>\n",
       "      <td>78</td>\n",
       "      <td>23</td>\n",
       "    </tr>\n",
       "    <tr>\n",
       "      <th>11</th>\n",
       "      <td>174</td>\n",
       "      <td>61</td>\n",
       "      <td>113</td>\n",
       "      <td>58</td>\n",
       "      <td>35</td>\n",
       "    </tr>\n",
       "    <tr>\n",
       "      <th>12</th>\n",
       "      <td>158</td>\n",
       "      <td>84</td>\n",
       "      <td>108</td>\n",
       "      <td>54</td>\n",
       "      <td>65</td>\n",
       "    </tr>\n",
       "    <tr>\n",
       "      <th>13</th>\n",
       "      <td>170</td>\n",
       "      <td>61</td>\n",
       "      <td>119</td>\n",
       "      <td>74</td>\n",
       "      <td>25</td>\n",
       "    </tr>\n",
       "    <tr>\n",
       "      <th>14</th>\n",
       "      <td>163</td>\n",
       "      <td>63</td>\n",
       "      <td>123</td>\n",
       "      <td>62</td>\n",
       "      <td>53</td>\n",
       "    </tr>\n",
       "    <tr>\n",
       "      <th>15</th>\n",
       "      <td>155</td>\n",
       "      <td>69</td>\n",
       "      <td>115</td>\n",
       "      <td>61</td>\n",
       "      <td>62</td>\n",
       "    </tr>\n",
       "    <tr>\n",
       "      <th>16</th>\n",
       "      <td>169</td>\n",
       "      <td>77</td>\n",
       "      <td>114</td>\n",
       "      <td>67</td>\n",
       "      <td>45</td>\n",
       "    </tr>\n",
       "    <tr>\n",
       "      <th>17</th>\n",
       "      <td>172</td>\n",
       "      <td>76</td>\n",
       "      <td>122</td>\n",
       "      <td>77</td>\n",
       "      <td>28</td>\n",
       "    </tr>\n",
       "    <tr>\n",
       "      <th>18</th>\n",
       "      <td>168</td>\n",
       "      <td>62</td>\n",
       "      <td>115</td>\n",
       "      <td>70</td>\n",
       "      <td>30</td>\n",
       "    </tr>\n",
       "    <tr>\n",
       "      <th>19</th>\n",
       "      <td>169</td>\n",
       "      <td>84</td>\n",
       "      <td>110</td>\n",
       "      <td>70</td>\n",
       "      <td>47</td>\n",
       "    </tr>\n",
       "  </tbody>\n",
       "</table>\n",
       "</div>"
      ],
      "text/plain": [
       "    Height (cm)  Waist Circumference (cm)  Systolic Blood Pressure (mmHg)  \\\n",
       "0           166                        75                             116   \n",
       "1           170                        89                             135   \n",
       "2           166                        98                             135   \n",
       "3           181                        76                             127   \n",
       "4           166                        92                             118   \n",
       "5           181                        99                             114   \n",
       "6           167                        82                             123   \n",
       "7           179                        84                             137   \n",
       "8           187                        93                             113   \n",
       "9           176                        93                             133   \n",
       "10          153                        60                             106   \n",
       "11          174                        61                             113   \n",
       "12          158                        84                             108   \n",
       "13          170                        61                             119   \n",
       "14          163                        63                             123   \n",
       "15          155                        69                             115   \n",
       "16          169                        77                             114   \n",
       "17          172                        76                             122   \n",
       "18          168                        62                             115   \n",
       "19          169                        84                             110   \n",
       "\n",
       "    Weight (kg)  Age (years)  \n",
       "0            81           36  \n",
       "1            94           44  \n",
       "2            80           65  \n",
       "3            66           35  \n",
       "4            70           54  \n",
       "5            85           35  \n",
       "6            90           29  \n",
       "7            69           42  \n",
       "8            94           50  \n",
       "9            71           21  \n",
       "10           78           23  \n",
       "11           58           35  \n",
       "12           54           65  \n",
       "13           74           25  \n",
       "14           62           53  \n",
       "15           61           62  \n",
       "16           67           45  \n",
       "17           77           28  \n",
       "18           70           30  \n",
       "19           70           47  "
      ]
     },
     "execution_count": 533,
     "metadata": {},
     "output_type": "execute_result"
    }
   ],
   "source": [
    "columnas = list(df.columns)\n",
    "atribs, clasif = columnas[:-1], columnas[-1]\n",
    "col_clasif = df[clasif]\n",
    "valores = col_clasif.drop_duplicates().values\n",
    "#datos = pd.get_dummies(df[atribs])           # un dataframe con dummies\n",
    "\n",
    "print(atribs), print(clasif)\n",
    "datos"
   ]
  },
  {
   "cell_type": "code",
   "execution_count": 532,
   "metadata": {
    "hidden": true
   },
   "outputs": [
    {
     "data": {
      "text/html": [
       "<div>\n",
       "<style scoped>\n",
       "    .dataframe tbody tr th:only-of-type {\n",
       "        vertical-align: middle;\n",
       "    }\n",
       "\n",
       "    .dataframe tbody tr th {\n",
       "        vertical-align: top;\n",
       "    }\n",
       "\n",
       "    .dataframe thead th {\n",
       "        text-align: right;\n",
       "    }\n",
       "</style>\n",
       "<table border=\"1\" class=\"dataframe\">\n",
       "  <thead>\n",
       "    <tr style=\"text-align: right;\">\n",
       "      <th></th>\n",
       "      <th>Height (cm)</th>\n",
       "      <th>Waist Circumference (cm)</th>\n",
       "      <th>Systolic Blood Pressure (mmHg)</th>\n",
       "      <th>Weight (kg)</th>\n",
       "      <th>Age (years)</th>\n",
       "    </tr>\n",
       "  </thead>\n",
       "  <tbody>\n",
       "    <tr>\n",
       "      <th>10</th>\n",
       "      <td>153</td>\n",
       "      <td>60</td>\n",
       "      <td>106</td>\n",
       "      <td>78</td>\n",
       "      <td>23</td>\n",
       "    </tr>\n",
       "    <tr>\n",
       "      <th>11</th>\n",
       "      <td>174</td>\n",
       "      <td>61</td>\n",
       "      <td>113</td>\n",
       "      <td>58</td>\n",
       "      <td>35</td>\n",
       "    </tr>\n",
       "    <tr>\n",
       "      <th>12</th>\n",
       "      <td>158</td>\n",
       "      <td>84</td>\n",
       "      <td>108</td>\n",
       "      <td>54</td>\n",
       "      <td>65</td>\n",
       "    </tr>\n",
       "    <tr>\n",
       "      <th>13</th>\n",
       "      <td>170</td>\n",
       "      <td>61</td>\n",
       "      <td>119</td>\n",
       "      <td>74</td>\n",
       "      <td>25</td>\n",
       "    </tr>\n",
       "    <tr>\n",
       "      <th>14</th>\n",
       "      <td>163</td>\n",
       "      <td>63</td>\n",
       "      <td>123</td>\n",
       "      <td>62</td>\n",
       "      <td>53</td>\n",
       "    </tr>\n",
       "    <tr>\n",
       "      <th>15</th>\n",
       "      <td>155</td>\n",
       "      <td>69</td>\n",
       "      <td>115</td>\n",
       "      <td>61</td>\n",
       "      <td>62</td>\n",
       "    </tr>\n",
       "    <tr>\n",
       "      <th>16</th>\n",
       "      <td>169</td>\n",
       "      <td>77</td>\n",
       "      <td>114</td>\n",
       "      <td>67</td>\n",
       "      <td>45</td>\n",
       "    </tr>\n",
       "    <tr>\n",
       "      <th>17</th>\n",
       "      <td>172</td>\n",
       "      <td>76</td>\n",
       "      <td>122</td>\n",
       "      <td>77</td>\n",
       "      <td>28</td>\n",
       "    </tr>\n",
       "    <tr>\n",
       "      <th>18</th>\n",
       "      <td>168</td>\n",
       "      <td>62</td>\n",
       "      <td>115</td>\n",
       "      <td>70</td>\n",
       "      <td>30</td>\n",
       "    </tr>\n",
       "    <tr>\n",
       "      <th>19</th>\n",
       "      <td>169</td>\n",
       "      <td>84</td>\n",
       "      <td>110</td>\n",
       "      <td>70</td>\n",
       "      <td>47</td>\n",
       "    </tr>\n",
       "  </tbody>\n",
       "</table>\n",
       "</div>"
      ],
      "text/plain": [
       "    Height (cm)  Waist Circumference (cm)  Systolic Blood Pressure (mmHg)  \\\n",
       "10          153                        60                             106   \n",
       "11          174                        61                             113   \n",
       "12          158                        84                             108   \n",
       "13          170                        61                             119   \n",
       "14          163                        63                             123   \n",
       "15          155                        69                             115   \n",
       "16          169                        77                             114   \n",
       "17          172                        76                             122   \n",
       "18          168                        62                             115   \n",
       "19          169                        84                             110   \n",
       "\n",
       "    Weight (kg)  Age (years)  \n",
       "10           78           23  \n",
       "11           58           35  \n",
       "12           54           65  \n",
       "13           74           25  \n",
       "14           62           53  \n",
       "15           61           62  \n",
       "16           67           45  \n",
       "17           77           28  \n",
       "18           70           30  \n",
       "19           70           47  "
      ]
     },
     "execution_count": 532,
     "metadata": {},
     "output_type": "execute_result"
    }
   ],
   "source": [
    "# cómo obtener las filas con 1 \n",
    "# de la matriz de datos\n",
    "mask = col_clasif==1  # filas con 1\n",
    "datos[mask]"
   ]
  },
  {
   "cell_type": "code",
   "execution_count": 377,
   "metadata": {
    "hidden": true,
    "scrolled": true
   },
   "outputs": [],
   "source": [
    "# cómo obtener el dataframe en numpy\n",
    "datos[mask].to_numpy();"
   ]
  },
  {
   "cell_type": "code",
   "execution_count": 540,
   "metadata": {
    "hidden": true
   },
   "outputs": [
    {
     "data": {
      "text/plain": [
       "array([0, 1])"
      ]
     },
     "execution_count": 540,
     "metadata": {},
     "output_type": "execute_result"
    }
   ],
   "source": [
    "# los valores de clasificacion\n",
    "col_clasif.drop_duplicates().values"
   ]
  },
  {
   "cell_type": "markdown",
   "metadata": {},
   "source": [
    "### Descriptor de datos"
   ]
  },
  {
   "cell_type": "markdown",
   "metadata": {},
   "source": [
    "Como queremos determinar las distribuciones para cada clase vamos a crear un diccionario que nos de una entrada por separado para cada clase y sus integrantes."
   ]
  },
  {
   "cell_type": "code",
   "execution_count": 542,
   "metadata": {
    "scrolled": true
   },
   "outputs": [
    {
     "data": {
      "text/plain": [
       "(array([[166,  75, 116,  81,  36],\n",
       "        [170,  89, 135,  94,  44],\n",
       "        [166,  98, 135,  80,  65],\n",
       "        [181,  76, 127,  66,  35],\n",
       "        [166,  92, 118,  70,  54],\n",
       "        [181,  99, 114,  85,  35],\n",
       "        [167,  82, 123,  90,  29],\n",
       "        [179,  84, 137,  69,  42],\n",
       "        [187,  93, 113,  94,  50],\n",
       "        [176,  93, 133,  71,  21]]),\n",
       " array([[153,  60, 106,  78,  23],\n",
       "        [174,  61, 113,  58,  35],\n",
       "        [158,  84, 108,  54,  65],\n",
       "        [170,  61, 119,  74,  25],\n",
       "        [163,  63, 123,  62,  53],\n",
       "        [155,  69, 115,  61,  62],\n",
       "        [169,  77, 114,  67,  45],\n",
       "        [172,  76, 122,  77,  28],\n",
       "        [168,  62, 115,  70,  30],\n",
       "        [169,  84, 110,  70,  47]]))"
      ]
     },
     "execution_count": 542,
     "metadata": {},
     "output_type": "execute_result"
    }
   ],
   "source": [
    "def datos_por_clase(X, col, y):\n",
    "    clases = {}\n",
    "    for val in y:\n",
    "        #print(f\"Clase {val}\")\n",
    "        filas_clase = col==val\n",
    "        clases[val] = X[filas_clase].to_numpy()\n",
    "    return clases\n",
    "\n",
    "clases = datos_por_clase(datos, col_clasif, valores)\n",
    "clases[valores[0]], clases[valores[1]]"
   ]
  },
  {
   "cell_type": "code",
   "execution_count": 425,
   "metadata": {},
   "outputs": [],
   "source": [
    "#clases"
   ]
  },
  {
   "cell_type": "markdown",
   "metadata": {},
   "source": [
    "Como asumimos que siguen una distribución normal, lo que debemos hacer ahora es determinar media y std para cada clase\n",
    "\n"
   ]
  },
  {
   "cell_type": "code",
   "execution_count": 543,
   "metadata": {},
   "outputs": [
    {
     "data": {
      "text/plain": [
       "{0: array([[173.9       ,   7.43572458],\n",
       "        [ 88.1       ,   8.08022277],\n",
       "        [125.1       ,   9.00499861],\n",
       "        [ 80.        ,  10.07968253],\n",
       "        [ 41.1       ,  12.15277746]]),\n",
       " 1: array([[165.1       ,   7.02068373],\n",
       "        [ 69.7       ,   9.23092628],\n",
       "        [114.5       ,   5.35256948],\n",
       "        [ 67.1       ,   7.73886297],\n",
       "        [ 41.3       ,  14.55369369]])}"
      ]
     },
     "execution_count": 543,
     "metadata": {},
     "output_type": "execute_result"
    }
   ],
   "source": [
    "def describe(clases, valores):\n",
    "    descrip_d = {}\n",
    "    for val in valores:\n",
    "        datos_clase = clases[val]\n",
    "        # asumiendo normalidad en los datos podemos describirlos\n",
    "        # con media y std\n",
    "        descrip = np.array([[np.mean(c), np.std(c)] for c in zip(*datos_clase)])\n",
    "        descrip_d[val] = descrip\n",
    "    # vamos a regresar cada fila asociada a su clase\n",
    "    return descrip_d\n",
    "\n",
    "descriptores = describe(clases=clases, valores=valores)\n",
    "descriptores"
   ]
  },
  {
   "cell_type": "markdown",
   "metadata": {},
   "source": [
    "Vamos a visualizar se distribuyen estas clases "
   ]
  },
  {
   "cell_type": "markdown",
   "metadata": {},
   "source": [
    "### Prob. a priori"
   ]
  },
  {
   "cell_type": "markdown",
   "metadata": {},
   "source": [
    "Vamos a describir la probabilidad a prior de nuestros datos, esto es:\n",
    "\n",
    "$$\n",
    "P(X==y_i) ; i \\in \\{0,1\\}\n",
    "$$\n",
    "\n",
    "Es decir, con qué probabilidad ocurre cada una de nuestras clases. "
   ]
  },
  {
   "cell_type": "code",
   "execution_count": 384,
   "metadata": {},
   "outputs": [
    {
     "data": {
      "text/plain": [
       "{0: 0.5, 1: 0.5}"
      ]
     },
     "execution_count": 384,
     "metadata": {},
     "output_type": "execute_result"
    }
   ],
   "source": [
    "def prior(clases_d, columna_y):\n",
    "    \"\"\"\n",
    "    Determina la probabilidad a priori de nuestros datos\n",
    "    \n",
    "    :param clases_d dict: diccionario con los descriptores de las clases \n",
    "    :param columna_y series: columna con los datos de la clasificación\n",
    "    :return dict:\n",
    "    \"\"\"\n",
    "    prior_d = {}\n",
    "    N = len(columna_y)\n",
    "    for k, v in clases_d.items():\n",
    "        prior_d[k] = len(columna_y[columna_y==k])/N\n",
    "    return prior_d\n",
    "\n",
    "apriori = prior(clases, col_clasif)\n",
    "apriori"
   ]
  },
  {
   "cell_type": "markdown",
   "metadata": {},
   "source": [
    "Es decir, la clase 0 la observamos el 61% de las veces mientras que la 1 el 39% restante."
   ]
  },
  {
   "cell_type": "markdown",
   "metadata": {},
   "source": [
    "### Verosimilitud"
   ]
  },
  {
   "cell_type": "markdown",
   "metadata": {},
   "source": [
    "También la van a encontrar como _likelihood_ y esencialmente es\n",
    "\n",
    "$$\n",
    "\\prod P(x_i | y)\n",
    "$$\n",
    "\n",
    "```python\n",
    "   \n",
    "    def datos_por_clase(X, col, y):\n",
    "        regresa datos de las clases en y en un diccionario\n",
    "        \n",
    "    def describe(clase, valores):\n",
    "        describe prob y std de cada clase\n",
    "        \n",
    "    def prior(clases_d, columna_y):\n",
    "        prob a priori de datos\n",
    "    \n",
    "    def likelihood(descriptores, instancia, etiqs)\n",
    "    \n",
    "    ## Variables\n",
    "    valores        # array con valores\n",
    "    clases_d       # dict\n",
    "    descriptiores  # dict\n",
    "    apriori        # dict\n",
    "```\n"
   ]
  },
  {
   "cell_type": "code",
   "execution_count": 584,
   "metadata": {},
   "outputs": [],
   "source": [
    "def likelihood(descrip_d, instancia, valores):\n",
    "    like_d = {}     # regresaremos todo en un dict\n",
    "                    # {0: 00022, 1:0000}\n",
    "    \n",
    "    for k in valores:  # revisamos cada una de las diferentes valores de clasificacion\n",
    "        \n",
    "        descripcion = descrip_d[k]    # la estimacion puntual mu y std de cada col\n",
    "        # Vamos a leer nuestro vector de 5 entradas\n",
    "        # para la instancia j-esima\n",
    "        # y usando norm().pdf(instancia)\n",
    "        for j, descr in enumerate(descripcion):\n",
    "            if k in like_d:\n",
    "                like_d[k] *= like_d.get(k, norm(descr[0], descr[1]).pdf(instancia[j]))\n",
    "            else:\n",
    "                like_d[k]  = like_d.get(k, norm(descr[0], descr[1]).pdf(instancia[j]))\n",
    "    return like_d"
   ]
  },
  {
   "cell_type": "code",
   "execution_count": 575,
   "metadata": {},
   "outputs": [
    {
     "data": {
      "text/plain": [
       "{0: 1.6779659381239804e-48, 1: 5.653735558052493e-31}"
      ]
     },
     "execution_count": 575,
     "metadata": {},
     "output_type": "execute_result"
    }
   ],
   "source": [
    "likelihood(descriptores, datos.values[10], valores)"
   ]
  },
  {
   "cell_type": "markdown",
   "metadata": {},
   "source": [
    "### Prediccion\n"
   ]
  },
  {
   "cell_type": "code",
   "execution_count": 587,
   "metadata": {},
   "outputs": [
    {
     "name": "stdout",
     "output_type": "stream",
     "text": [
      "{0: 1.4609298144214388e-22, 1: 1.000846114040645e-21}\n",
      "{0: 7.304649072107194e-23, 1: 5.004230570203225e-22}\n"
     ]
    },
    {
     "data": {
      "text/plain": [
       "1"
      ]
     },
     "execution_count": 587,
     "metadata": {},
     "output_type": "execute_result"
    }
   ],
   "source": [
    "def prediccion(datos, col_clasif, valores, instancia):\n",
    "    \"\"\"\n",
    "    Prediccion de Bayes Ingenuo\n",
    "    Probailidad a posteriori MAP\n",
    "    \n",
    "    nos quedamos con aquella probabilidad mayor entre las clases\n",
    "    \"\"\"\n",
    "    c_d = datos_por_clase(datos, col_clasif.values, valores)\n",
    "    d_d = describe(c_d, col_clasif.values)\n",
    "    p_d = prior(c_d, col_clasif.values)\n",
    "    v_d = likelihood(d_d, instancia, valores)\n",
    "    print(v_d)\n",
    "    prediccion = {k: p_d[k] * v_d[k] for k in p_d}\n",
    "    print(prediccion)\n",
    "    return max(p_d.keys(), key=lambda k: prediccion[k])\n",
    "\n",
    "prediccion(datos, col_clasif, valores, datos.values[19])"
   ]
  }
 ],
 "metadata": {
  "kernelspec": {
   "display_name": "Python 3",
   "language": "python",
   "name": "python3"
  },
  "language_info": {
   "codemirror_mode": {
    "name": "ipython",
    "version": 3
   },
   "file_extension": ".py",
   "mimetype": "text/x-python",
   "name": "python",
   "nbconvert_exporter": "python",
   "pygments_lexer": "ipython3",
   "version": "3.6.9"
  },
  "varInspector": {
   "cols": {
    "lenName": 16,
    "lenType": 16,
    "lenVar": 40
   },
   "kernels_config": {
    "python": {
     "delete_cmd_postfix": "",
     "delete_cmd_prefix": "del ",
     "library": "var_list.py",
     "varRefreshCmd": "print(var_dic_list())"
    },
    "r": {
     "delete_cmd_postfix": ") ",
     "delete_cmd_prefix": "rm(",
     "library": "var_list.r",
     "varRefreshCmd": "cat(var_dic_list()) "
    }
   },
   "types_to_exclude": [
    "module",
    "function",
    "builtin_function_or_method",
    "instance",
    "_Feature"
   ],
   "window_display": false
  }
 },
 "nbformat": 4,
 "nbformat_minor": 4
}
