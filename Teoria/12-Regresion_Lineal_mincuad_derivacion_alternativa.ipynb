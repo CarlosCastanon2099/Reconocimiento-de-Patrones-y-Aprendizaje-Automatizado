{
 "cells": [
  {
   "cell_type": "code",
   "execution_count": 2,
   "metadata": {},
   "outputs": [],
   "source": [
    "import numpy as np\n",
    "import matplotlib.pyplot as plt\n",
    "import scipy as sp\n",
    "\n",
    "%matplotlib inline\n",
    "\n",
    "from sklearn.datasets import make_regression, make_circles"
   ]
  },
  {
   "cell_type": "code",
   "execution_count": 3,
   "metadata": {},
   "outputs": [
    {
     "data": {
      "text/plain": [
       "<matplotlib.collections.PathCollection at 0x7f346139d278>"
      ]
     },
     "execution_count": 3,
     "metadata": {},
     "output_type": "execute_result"
    },
    {
     "data": {
      "image/png": "[encoded data removed]",
      "text/plain": [
       "<Figure size 432x288 with 1 Axes>"
      ]
     },
     "metadata": {
      "needs_background": "light"
     },
     "output_type": "display_data"
    }
   ],
   "source": [
    "lin1 = make_regression(n_features=1, n_samples=200, noise=10,\n",
    "                       bias=100, random_state=20)\n",
    "plt.scatter(lin1[0], lin1[1], s=2)"
   ]
  },
  {
   "cell_type": "markdown",
   "metadata": {},
   "source": [
    "La regresión lineal tiene crea una relación funcional entre la variable dependiente e independiente, donde las variables independientes tienen un caracter explicatorio. Estas variables están ponderadas por constantes $\\beta$. La ecuación de dicha relación funcional es:\n",
    "\n",
    "$$y_i = \\beta_0 + \\beta_1 x_{1,i} + \\ldots + \\beta_n x_{n,i} + \\epsilon_i $$\n",
    "\n",
    "Para nuestro análisis vamos a ocupar la forma matricial\n",
    "\n",
    "$$\n",
    "y = \\left ( \\begin{array} \\\\ y_1 \\\\ y_2 \\\\ \\vdots \\\\ y_n \\end{array} \\right ), \n",
    "X = \\left ( \\begin{array} \\\\ \n",
    "                          1       & x_{21} & \\ldots & x_{k1} \\\\ \n",
    "                          \\vdots  & \\vdots & \\vdots & \\vdots \\\\ \n",
    "                          1 & x_{2n} & \\ldots & x_{kn} \\end{array}  \n",
    "     \\right ) ,\n",
    "\\beta = \\left ( \\begin{array} \\\\ \\beta_1 \\\\ \\beta_2 \\\\ \\vdots \\\\ \\beta_n   \\end{array} \\right ) , \n",
    "\\epsilon = \\left ( \\begin{array} \\\\ \\epsilon_1 \\\\ \\epsilon_2 \\\\ \\vdots \\\\ \\epsilon_n   \\end{array} \\right )\n",
    "$$\n",
    "\n",
    "Entonces podemos replantear la expresión anterior en su forma matricial:\n",
    "\n",
    "$$y = X \\beta + \\epsilon $$\n",
    "\n",
    "donde $\\beta$ es un vector de parámetros por conocer y $\\epsilon$ es un vector de términos de ruido. Podemos computar el vector $\\epsilon$ a partir de los datos por lo que tendríamos que hacer lo siguiente:\n",
    "\n"
   ]
  },
  {
   "cell_type": "markdown",
   "metadata": {},
   "source": [
    "## Mínimos cuadrados y residuales"
   ]
  },
  {
   "cell_type": "markdown",
   "metadata": {},
   "source": [
    "$$ y = X\\beta + e $$\n",
    "\n",
    "Donde $e$ puede ser computado de los datos\n",
    "\n",
    "$$e = y - X\\beta$$\n",
    "\n",
    "Para determinar el estimador de mínimos cuadrados vamos a sumar todas los cuadrados de los residuales como función de $\\beta$ \n",
    "\n",
    "$$ S(\\beta) = \\sum e_i^2 = (y-X\\beta)'(y-X\\beta) = y'y - y'X\\beta - \\beta'X'y + \\beta'X'X\\beta$$\n",
    "\n",
    "Como lo que queremos es minimizar el error, lo que tenemos que hacer primero es derivar:\n",
    "\n",
    "$$ \\frac {\\partial S(\\beta)} {\\partial \\beta} = - y'X - X'y + 2'X'X\\beta$$\n",
    "\n",
    "Y después igualar a 0\n",
    "\n",
    "$$ 0 = - y'X - X'y + 2'X'X\\beta$$\n",
    "\n",
    "De donde obtenemos \n",
    "\n",
    "$$ 2X'X\\beta = 2X'\\beta \\implies X'X\\beta = X'y $$\n",
    "\n",
    "Resolviendo para $\\beta$\n",
    "\n",
    "$$ (X'X)^{-1} \\cdot X'X\\beta = (X'X)^{-1} \\cdot X'y \\implies  \\beta = (X'X)^{-1}X' y $$\n",
    "\n"
   ]
  },
  {
   "cell_type": "code",
   "execution_count": 6,
   "metadata": {},
   "outputs": [],
   "source": [
    "X = np.concatenate((np.ones_like(lin1[0]), lin1[0]), axis=1)"
   ]
  },
  {
   "cell_type": "code",
   "execution_count": 8,
   "metadata": {},
   "outputs": [
    {
     "data": {
      "text/plain": [
       "(2, 200)"
      ]
     },
     "execution_count": 8,
     "metadata": {},
     "output_type": "execute_result"
    }
   ],
   "source": [
    "coefs = np.linalg.inv(X.T.dot(X)).dot(X.T)\n",
    "coefs.shape"
   ]
  },
  {
   "cell_type": "code",
   "execution_count": 10,
   "metadata": {},
   "outputs": [],
   "source": [
    "b0, b1 = coefs.dot(lin1[1])"
   ]
  },
  {
   "cell_type": "code",
   "execution_count": 11,
   "metadata": {},
   "outputs": [],
   "source": [
    "XX = np.linspace(-3,3)\n",
    "regresion = b0 + XX.dot(b1)"
   ]
  },
  {
   "cell_type": "code",
   "execution_count": 12,
   "metadata": {},
   "outputs": [
    {
     "data": {
      "text/plain": [
       "array([-87.28871786, -79.63390687, -71.97909587, -64.32428487,\n",
       "       -56.66947388, -49.01466288, -41.35985189, -33.70504089,\n",
       "       -26.0502299 , -18.3954189 , -10.74060791,  -3.08579691,\n",
       "         4.56901409,  12.22382508,  19.87863608,  27.53344707,\n",
       "        35.18825807,  42.84306906,  50.49788006,  58.15269105,\n",
       "        65.80750205,  73.46231305,  81.11712404,  88.77193504,\n",
       "        96.42674603, 104.08155703, 111.73636802, 119.39117902,\n",
       "       127.04599001, 134.70080101, 142.35561201, 150.010423  ,\n",
       "       157.665234  , 165.32004499, 172.97485599, 180.62966698,\n",
       "       188.28447798, 195.93928897, 203.59409997, 211.24891097,\n",
       "       218.90372196, 226.55853296, 234.21334395, 241.86815495,\n",
       "       249.52296594, 257.17777694, 264.83258793, 272.48739893,\n",
       "       280.14220993, 287.79702092])"
      ]
     },
     "execution_count": 12,
     "metadata": {},
     "output_type": "execute_result"
    }
   ],
   "source": [
    "regresion"
   ]
  },
  {
   "cell_type": "code",
   "execution_count": 13,
   "metadata": {},
   "outputs": [
    {
     "data": {
      "text/plain": [
       "[<matplotlib.lines.Line2D at 0x7f3405a06a20>]"
      ]
     },
     "execution_count": 13,
     "metadata": {},
     "output_type": "execute_result"
    },
    {
     "data": {
      "image/png": "[encoded data removed]",
      "text/plain": [
       "<Figure size 432x288 with 1 Axes>"
      ]
     },
     "metadata": {
      "needs_background": "light"
     },
     "output_type": "display_data"
    }
   ],
   "source": [
    "plt.scatter(lin1[0], lin1[1], s=2)\n",
    "plt.plot(XX, regresion, '-r')"
   ]
  },
  {
   "cell_type": "code",
   "execution_count": 14,
   "metadata": {},
   "outputs": [
    {
     "data": {
      "text/plain": [
       "(100.25415152967413, 62.514289797091685)"
      ]
     },
     "execution_count": 14,
     "metadata": {},
     "output_type": "execute_result"
    }
   ],
   "source": [
    "b0, b1"
   ]
  },
  {
   "cell_type": "markdown",
   "metadata": {},
   "source": [
    "## Otra derivación del modelo de regresión lineal o de ajuste por mínimos cuadrados\n",
    "\n",
    "Sea $Y$ v.a. dependiente y $X$ la variable controlada independiente (libre de error). \n",
    "\n",
    "Consideremos la siguiente expresión para el error cuadrático promedio ($MSE$):\n",
    "\n",
    "$$MSE = E[(Y-\\hat Y)^2]$$\n",
    "\n",
    "y recordemos que:\n",
    "\n",
    "$$\\hat Y = \\beta_0 + \\beta_1X$$\n",
    "\n",
    "pero que en realidad $\\hat Y$ debe de ser una combinación lineal de las $\\beta_i$ no de la o las variables $X$, por lo que también podríamos ajustar:\n",
    "\n",
    "$$\\hat Y = \\beta_0 + \\beta_1X + \\beta_2X^{1000}$$\n",
    "\n",
    "y estaríamos ajustando también una regresión lineal.\n",
    "\n",
    "Afirmación: $MSE =  MSE(\\beta_0,\\beta_1)$ es una función que describe una parábola que abre hacia arriba. Nótese que si tuviéramos más variables independientes (y por ende más $\\beta_i$, tendríamos un paraboloide o un hiperparaboloide dependiendo de la dimensión en la que estuviéra encajada la función.\n",
    "\n",
    "Ahora bien, minimizar $MSE$, implica encontrar las derivadas parciales respecto a cada variable, que recordemos en este caso son los parámetros $\\beta_i$ e igualar cada parcial a cero:\n",
    "\n",
    "$${\\delta MSE \\over \\delta \\beta_0}=E[-2(Y-\\beta_0 - \\beta_1X)] = -2(E[Y]-\\beta_0-\\beta_1E[X]) = 0~~~~~~~~~(1)$$\n",
    "\n",
    "$${\\delta MSE \\over \\delta \\beta_1}=E[-2X(Y-\\beta_0 - \\beta_1X)] = -2(E[XY]-\\beta_0E[X]-\\beta_1E[X^2]) = 0~~~~~~~(2)$$\n",
    "\n",
    "**Observación:** tanto la Esperanza como la Derivada son transformaciones lineales, por lo que derivar una esperanza es análogo a encontrar la esperanza de una derivada. Es por esto que podemos introducir la derivada dentro de los corchetes de la esperanza.\n",
    "\n",
    "Y entonces tenemos un sistema de dos ecuaciones con dos incógnitas en donde vamos a proceder a resolverlo por el método de sustitución despejando $\\beta_0$ de $(1)$ y sustituyéndola en $(2)$. Si además multiplicamos ambas ecuaciones por $-{1\\over2}$ tendríamos:\n",
    "\n",
    "$$\\beta_0 = E[Y] - \\beta_1E[X]~~~~~~~despejando~en~(1),~tenemos~(3)$$\n",
    "\n",
    "$$E[XY]-(E[Y]-\\beta_1E[X])E[X]-\\beta_1E[X^2]=0~~~~~~~sustituyendo~(3)~en~(2),~tenemos~(4)$$\n",
    "\n",
    "Haciendo un poco de álgebra en $(4)$ terminamos con una expresión interesante:\n",
    "\n",
    "$$E[XY]-E[X]E[Y]+\\beta_1E[X]^2-\\beta_1E[X^2]=0$$\n",
    "\n",
    "la cual básicamente nos dice:\n",
    "\n",
    "$$Cov(X,Y) = \\beta_1Var(X)$$\n",
    "\n",
    "$$\\beta_1 = {Cov(X,Y) \\over Var(X)}~~~~~~~~~~(5)$$\n",
    "\n",
    "y por lo tanto sustituyendo (5) en (3):\n",
    "\n",
    "$$E[Y]=\\beta_0+{Cov(X,Y) \\over Var(X)}E[X]$$\n",
    "\n",
    "Esto nos deja con una expresión muy interesante de la cual podemos desprender varias conclusiones:\n",
    "\n",
    "1. El punto $(E[X],E[Y])$ siempre está sobre el polinomio ajustado.\n",
    "2. El signo de la pendiente de la recta anterior está dado por la $Cov(X,Y)$, ya que $Var(X)$ siempre tiene signo positivo.\n",
    "3. La pendiente de la recta ajustada representa una especie de índice de correlación lineal de Pearson en el que normalizamos o estandarizamos a la variable Y respecto a la varianza de X, ya que tenemos:\n",
    "\n",
    "$${Cov(X,Y) \\over Var(X)}={{E[X-E[X]]E[Y-E[Y]]}\\over \\sigma_X\\sigma_X}$$\n",
    "\n",
    "4. Más aún, supongamos que $Cov(X,Y)$ duplica a $Var(X)$ (i.e. $\\beta_1 = 2$). Tendremos entonces que las variables $(X,Y)$ covarían el doble de lo que varía $X$, por lo que si deseamos predecir a $Y$ a partir de $X$, tiene sentido que dupliquemos su nivel de variación para poder abarcar la variación de $Y$."
   ]
  }
 ],
 "metadata": {
  "kernelspec": {
   "display_name": "Python 3 (ipykernel)",
   "language": "python",
   "name": "python3"
  },
  "language_info": {
   "codemirror_mode": {
    "name": "ipython",
    "version": 3
   },
   "file_extension": ".py",
   "mimetype": "text/x-python",
   "name": "python",
   "nbconvert_exporter": "python",
   "pygments_lexer": "ipython3",
   "version": "3.10.12"
  },
  "varInspector": {
   "cols": {
    "lenName": 16,
    "lenType": 16,
    "lenVar": 40
   },
   "kernels_config": {
    "python": {
     "delete_cmd_postfix": "",
     "delete_cmd_prefix": "del ",
     "library": "var_list.py",
     "varRefreshCmd": "print(var_dic_list())"
    },
    "r": {
     "delete_cmd_postfix": ") ",
     "delete_cmd_prefix": "rm(",
     "library": "var_list.r",
     "varRefreshCmd": "cat(var_dic_list()) "
    }
   },
   "types_to_exclude": [
    "module",
    "function",
    "builtin_function_or_method",
    "instance",
    "_Feature"
   ],
   "window_display": false
  }
 },
 "nbformat": 4,
 "nbformat_minor": 4
}
