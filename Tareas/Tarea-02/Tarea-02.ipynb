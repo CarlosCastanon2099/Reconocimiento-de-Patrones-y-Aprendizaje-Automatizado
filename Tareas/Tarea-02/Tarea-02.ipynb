{
  "cells": [
    {
      "cell_type": "code",
      "execution_count": 29,
      "id": "3362c5f6",
      "metadata": {
        "colab": {
          "base_uri": "https://localhost:8080/"
        },
        "id": "3362c5f6",
        "outputId": "b79ce966-9768-444d-8a47-1d1ef8ec3eac"
      },
      "outputs": [
        {
          "name": "stderr",
          "output_type": "stream",
          "text": [
            "[nltk_data] Downloading package punkt to\n",
            "[nltk_data]     C:\\Users\\light\\AppData\\Roaming\\nltk_data...\n",
            "[nltk_data]   Package punkt is already up-to-date!\n"
          ]
        }
      ],
      "source": [
        "# Imports necesarios\n",
        "import numpy as np\n",
        "import pandas as pd\n",
        "import nltk\n",
        "import re\n",
        "import csv\n",
        "import matplotlib.pyplot as plt\n",
        "from sklearn.naive_bayes import GaussianNB\n",
        "from sklearn . naive_bayes import MultinomialNB\n",
        "from sklearn.model_selection import train_test_split\n",
        "from sklearn.metrics import precision_score, recall_score, accuracy_score, f1_score, confusion_matrix, ConfusionMatrixDisplay\n",
        "#import warnings\n",
        "#warnings.filterwarnings(\"ignore\")\n",
        "nltk.download('punkt')\n",
        "import os"
      ]
    },
    {
      "cell_type": "code",
      "execution_count": 30,
      "id": "a793fb50",
      "metadata": {
        "id": "a793fb50"
      },
      "outputs": [],
      "source": [
        "# Se carga la información del archivo .csv con la función read_csv de pandas\n",
        "emails = pd.read_csv(\"emails.csv\")"
      ]
    },
    {
      "cell_type": "code",
      "execution_count": 31,
      "id": "41cbb5ba",
      "metadata": {
        "colab": {
          "base_uri": "https://localhost:8080/",
          "height": 392
        },
        "id": "41cbb5ba",
        "outputId": "5566c8fc-9273-475f-9443-6432c00eda39"
      },
      "outputs": [
        {
          "data": {
            "text/html": [
              "<div>\n",
              "<style scoped>\n",
              "    .dataframe tbody tr th:only-of-type {\n",
              "        vertical-align: middle;\n",
              "    }\n",
              "\n",
              "    .dataframe tbody tr th {\n",
              "        vertical-align: top;\n",
              "    }\n",
              "\n",
              "    .dataframe thead th {\n",
              "        text-align: right;\n",
              "    }\n",
              "</style>\n",
              "<table border=\"1\" class=\"dataframe\">\n",
              "  <thead>\n",
              "    <tr style=\"text-align: right;\">\n",
              "      <th></th>\n",
              "      <th>Email No.</th>\n",
              "      <th>the</th>\n",
              "      <th>to</th>\n",
              "      <th>ect</th>\n",
              "      <th>and</th>\n",
              "      <th>for</th>\n",
              "      <th>of</th>\n",
              "      <th>a</th>\n",
              "      <th>you</th>\n",
              "      <th>hou</th>\n",
              "      <th>...</th>\n",
              "      <th>connevey</th>\n",
              "      <th>jay</th>\n",
              "      <th>valued</th>\n",
              "      <th>lay</th>\n",
              "      <th>infrastructure</th>\n",
              "      <th>military</th>\n",
              "      <th>allowing</th>\n",
              "      <th>ff</th>\n",
              "      <th>dry</th>\n",
              "      <th>Prediction</th>\n",
              "    </tr>\n",
              "  </thead>\n",
              "  <tbody>\n",
              "    <tr>\n",
              "      <th>0</th>\n",
              "      <td>Email 1</td>\n",
              "      <td>0</td>\n",
              "      <td>0</td>\n",
              "      <td>1</td>\n",
              "      <td>0</td>\n",
              "      <td>0</td>\n",
              "      <td>0</td>\n",
              "      <td>2</td>\n",
              "      <td>0</td>\n",
              "      <td>0</td>\n",
              "      <td>...</td>\n",
              "      <td>0</td>\n",
              "      <td>0</td>\n",
              "      <td>0</td>\n",
              "      <td>0</td>\n",
              "      <td>0</td>\n",
              "      <td>0</td>\n",
              "      <td>0</td>\n",
              "      <td>0</td>\n",
              "      <td>0</td>\n",
              "      <td>0</td>\n",
              "    </tr>\n",
              "    <tr>\n",
              "      <th>1</th>\n",
              "      <td>Email 2</td>\n",
              "      <td>8</td>\n",
              "      <td>13</td>\n",
              "      <td>24</td>\n",
              "      <td>6</td>\n",
              "      <td>6</td>\n",
              "      <td>2</td>\n",
              "      <td>102</td>\n",
              "      <td>1</td>\n",
              "      <td>27</td>\n",
              "      <td>...</td>\n",
              "      <td>0</td>\n",
              "      <td>0</td>\n",
              "      <td>0</td>\n",
              "      <td>0</td>\n",
              "      <td>0</td>\n",
              "      <td>0</td>\n",
              "      <td>0</td>\n",
              "      <td>1</td>\n",
              "      <td>0</td>\n",
              "      <td>0</td>\n",
              "    </tr>\n",
              "    <tr>\n",
              "      <th>2</th>\n",
              "      <td>Email 3</td>\n",
              "      <td>0</td>\n",
              "      <td>0</td>\n",
              "      <td>1</td>\n",
              "      <td>0</td>\n",
              "      <td>0</td>\n",
              "      <td>0</td>\n",
              "      <td>8</td>\n",
              "      <td>0</td>\n",
              "      <td>0</td>\n",
              "      <td>...</td>\n",
              "      <td>0</td>\n",
              "      <td>0</td>\n",
              "      <td>0</td>\n",
              "      <td>0</td>\n",
              "      <td>0</td>\n",
              "      <td>0</td>\n",
              "      <td>0</td>\n",
              "      <td>0</td>\n",
              "      <td>0</td>\n",
              "      <td>0</td>\n",
              "    </tr>\n",
              "    <tr>\n",
              "      <th>3</th>\n",
              "      <td>Email 4</td>\n",
              "      <td>0</td>\n",
              "      <td>5</td>\n",
              "      <td>22</td>\n",
              "      <td>0</td>\n",
              "      <td>5</td>\n",
              "      <td>1</td>\n",
              "      <td>51</td>\n",
              "      <td>2</td>\n",
              "      <td>10</td>\n",
              "      <td>...</td>\n",
              "      <td>0</td>\n",
              "      <td>0</td>\n",
              "      <td>0</td>\n",
              "      <td>0</td>\n",
              "      <td>0</td>\n",
              "      <td>0</td>\n",
              "      <td>0</td>\n",
              "      <td>0</td>\n",
              "      <td>0</td>\n",
              "      <td>0</td>\n",
              "    </tr>\n",
              "    <tr>\n",
              "      <th>4</th>\n",
              "      <td>Email 5</td>\n",
              "      <td>7</td>\n",
              "      <td>6</td>\n",
              "      <td>17</td>\n",
              "      <td>1</td>\n",
              "      <td>5</td>\n",
              "      <td>2</td>\n",
              "      <td>57</td>\n",
              "      <td>0</td>\n",
              "      <td>9</td>\n",
              "      <td>...</td>\n",
              "      <td>0</td>\n",
              "      <td>0</td>\n",
              "      <td>0</td>\n",
              "      <td>0</td>\n",
              "      <td>0</td>\n",
              "      <td>0</td>\n",
              "      <td>0</td>\n",
              "      <td>1</td>\n",
              "      <td>0</td>\n",
              "      <td>0</td>\n",
              "    </tr>\n",
              "    <tr>\n",
              "      <th>5</th>\n",
              "      <td>Email 6</td>\n",
              "      <td>4</td>\n",
              "      <td>5</td>\n",
              "      <td>1</td>\n",
              "      <td>4</td>\n",
              "      <td>2</td>\n",
              "      <td>3</td>\n",
              "      <td>45</td>\n",
              "      <td>1</td>\n",
              "      <td>0</td>\n",
              "      <td>...</td>\n",
              "      <td>0</td>\n",
              "      <td>0</td>\n",
              "      <td>0</td>\n",
              "      <td>0</td>\n",
              "      <td>0</td>\n",
              "      <td>0</td>\n",
              "      <td>0</td>\n",
              "      <td>0</td>\n",
              "      <td>0</td>\n",
              "      <td>1</td>\n",
              "    </tr>\n",
              "    <tr>\n",
              "      <th>6</th>\n",
              "      <td>Email 7</td>\n",
              "      <td>5</td>\n",
              "      <td>3</td>\n",
              "      <td>1</td>\n",
              "      <td>3</td>\n",
              "      <td>2</td>\n",
              "      <td>1</td>\n",
              "      <td>37</td>\n",
              "      <td>0</td>\n",
              "      <td>0</td>\n",
              "      <td>...</td>\n",
              "      <td>0</td>\n",
              "      <td>0</td>\n",
              "      <td>0</td>\n",
              "      <td>0</td>\n",
              "      <td>0</td>\n",
              "      <td>0</td>\n",
              "      <td>0</td>\n",
              "      <td>0</td>\n",
              "      <td>0</td>\n",
              "      <td>0</td>\n",
              "    </tr>\n",
              "    <tr>\n",
              "      <th>7</th>\n",
              "      <td>Email 8</td>\n",
              "      <td>0</td>\n",
              "      <td>2</td>\n",
              "      <td>2</td>\n",
              "      <td>3</td>\n",
              "      <td>1</td>\n",
              "      <td>2</td>\n",
              "      <td>21</td>\n",
              "      <td>6</td>\n",
              "      <td>0</td>\n",
              "      <td>...</td>\n",
              "      <td>0</td>\n",
              "      <td>0</td>\n",
              "      <td>0</td>\n",
              "      <td>0</td>\n",
              "      <td>0</td>\n",
              "      <td>0</td>\n",
              "      <td>0</td>\n",
              "      <td>1</td>\n",
              "      <td>0</td>\n",
              "      <td>1</td>\n",
              "    </tr>\n",
              "    <tr>\n",
              "      <th>8</th>\n",
              "      <td>Email 9</td>\n",
              "      <td>2</td>\n",
              "      <td>2</td>\n",
              "      <td>3</td>\n",
              "      <td>0</td>\n",
              "      <td>0</td>\n",
              "      <td>1</td>\n",
              "      <td>18</td>\n",
              "      <td>0</td>\n",
              "      <td>0</td>\n",
              "      <td>...</td>\n",
              "      <td>0</td>\n",
              "      <td>0</td>\n",
              "      <td>0</td>\n",
              "      <td>0</td>\n",
              "      <td>0</td>\n",
              "      <td>0</td>\n",
              "      <td>0</td>\n",
              "      <td>0</td>\n",
              "      <td>0</td>\n",
              "      <td>0</td>\n",
              "    </tr>\n",
              "    <tr>\n",
              "      <th>9</th>\n",
              "      <td>Email 10</td>\n",
              "      <td>4</td>\n",
              "      <td>4</td>\n",
              "      <td>35</td>\n",
              "      <td>0</td>\n",
              "      <td>1</td>\n",
              "      <td>0</td>\n",
              "      <td>49</td>\n",
              "      <td>1</td>\n",
              "      <td>16</td>\n",
              "      <td>...</td>\n",
              "      <td>0</td>\n",
              "      <td>0</td>\n",
              "      <td>0</td>\n",
              "      <td>0</td>\n",
              "      <td>0</td>\n",
              "      <td>0</td>\n",
              "      <td>0</td>\n",
              "      <td>0</td>\n",
              "      <td>0</td>\n",
              "      <td>0</td>\n",
              "    </tr>\n",
              "  </tbody>\n",
              "</table>\n",
              "<p>10 rows × 3002 columns</p>\n",
              "</div>"
            ],
            "text/plain": [
              "  Email No.  the  to  ect  and  for  of    a  you  hou  ...  connevey  jay  \\\n",
              "0   Email 1    0   0    1    0    0   0    2    0    0  ...         0    0   \n",
              "1   Email 2    8  13   24    6    6   2  102    1   27  ...         0    0   \n",
              "2   Email 3    0   0    1    0    0   0    8    0    0  ...         0    0   \n",
              "3   Email 4    0   5   22    0    5   1   51    2   10  ...         0    0   \n",
              "4   Email 5    7   6   17    1    5   2   57    0    9  ...         0    0   \n",
              "5   Email 6    4   5    1    4    2   3   45    1    0  ...         0    0   \n",
              "6   Email 7    5   3    1    3    2   1   37    0    0  ...         0    0   \n",
              "7   Email 8    0   2    2    3    1   2   21    6    0  ...         0    0   \n",
              "8   Email 9    2   2    3    0    0   1   18    0    0  ...         0    0   \n",
              "9  Email 10    4   4   35    0    1   0   49    1   16  ...         0    0   \n",
              "\n",
              "   valued  lay  infrastructure  military  allowing  ff  dry  Prediction  \n",
              "0       0    0               0         0         0   0    0           0  \n",
              "1       0    0               0         0         0   1    0           0  \n",
              "2       0    0               0         0         0   0    0           0  \n",
              "3       0    0               0         0         0   0    0           0  \n",
              "4       0    0               0         0         0   1    0           0  \n",
              "5       0    0               0         0         0   0    0           1  \n",
              "6       0    0               0         0         0   0    0           0  \n",
              "7       0    0               0         0         0   1    0           1  \n",
              "8       0    0               0         0         0   0    0           0  \n",
              "9       0    0               0         0         0   0    0           0  \n",
              "\n",
              "[10 rows x 3002 columns]"
            ]
          },
          "execution_count": 31,
          "metadata": {},
          "output_type": "execute_result"
        }
      ],
      "source": [
        "# Para visualizar las primeras 10 filas del archivo se utiliza la función head\n",
        "emails.head(10)"
      ]
    },
    {
      "cell_type": "code",
      "execution_count": 32,
      "id": "afacbbb6",
      "metadata": {
        "colab": {
          "base_uri": "https://localhost:8080/"
        },
        "id": "afacbbb6",
        "outputId": "9d7dedb1-fe74-4ad0-c5de-547731814b36"
      },
      "outputs": [
        {
          "name": "stdout",
          "output_type": "stream",
          "text": [
            "<class 'pandas.core.frame.DataFrame'>\n",
            "RangeIndex: 5172 entries, 0 to 5171\n",
            "Columns: 3002 entries, Email No. to Prediction\n",
            "dtypes: int64(3001), object(1)\n",
            "memory usage: 118.5+ MB\n"
          ]
        }
      ],
      "source": [
        "# Con la función info() se puede visualizar información relevante del dataset\n",
        "emails.info()"
      ]
    },
    {
      "cell_type": "code",
      "execution_count": 33,
      "id": "3f4490bc",
      "metadata": {
        "id": "3f4490bc"
      },
      "outputs": [],
      "source": [
        "# Para 'limpiar' el dataset, es necesario eliminar la primer columna ya que solo es un indicativo\n",
        "emails = emails.iloc[:, 1:] # iloc aquí es usado para extraer las columnas usando sus índices"
      ]
    },
    {
      "cell_type": "code",
      "execution_count": 34,
      "id": "32f1f32c",
      "metadata": {
        "colab": {
          "base_uri": "https://localhost:8080/"
        },
        "id": "32f1f32c",
        "outputId": "19bdf726-8cf0-443f-ffff-a683ea388b3a"
      },
      "outputs": [
        {
          "data": {
            "text/plain": [
              "array([[ 0,  0,  1, ...,  0,  0,  0],\n",
              "       [ 8, 13, 24, ...,  0,  1,  0],\n",
              "       [ 0,  0,  1, ...,  0,  0,  0],\n",
              "       ...,\n",
              "       [ 0,  0,  1, ...,  0,  0,  0],\n",
              "       [ 2,  7,  1, ...,  0,  1,  0],\n",
              "       [22, 24,  5, ...,  0,  0,  0]], dtype=int64)"
            ]
          },
          "execution_count": 34,
          "metadata": {},
          "output_type": "execute_result"
        }
      ],
      "source": [
        "# En este caso, con iloc obtenemos las siguientes 3000 columnas (sin contar la última)\n",
        "x_axis = emails.iloc[:, :3000].values\n",
        "x_axis"
      ]
    },
    {
      "cell_type": "code",
      "execution_count": 35,
      "id": "db68116f",
      "metadata": {
        "colab": {
          "base_uri": "https://localhost:8080/"
        },
        "id": "db68116f",
        "outputId": "606c074c-8706-4f74-bf92-561dca8b1b24"
      },
      "outputs": [
        {
          "data": {
            "text/plain": [
              "array([0, 0, 0, ..., 1, 1, 0], dtype=int64)"
            ]
          },
          "execution_count": 35,
          "metadata": {},
          "output_type": "execute_result"
        }
      ],
      "source": [
        "# Por último, utilizando un índice negativo, obtenemos la ultima columna\n",
        "y_axis = emails.iloc[:, -1].values\n",
        "y_axis"
      ]
    },
    {
      "cell_type": "code",
      "execution_count": 36,
      "id": "cd5d8d4b",
      "metadata": {
        "id": "cd5d8d4b"
      },
      "outputs": [],
      "source": [
        "# Utilizando la función train_test_split obtenemos los conjuntos con los que se entrenará el modelo\n",
        "# --> x_train y y_train representan los elementos que se usarán para el entrenamiento\n",
        "# --> x_text y y_test representan los elementos que se usarán para probar la precisión del modelo entrenado\n",
        "# NOTA: El valor 0.3 representa la proporción del dataset que se usará para hacer las pruebas\n",
        "x_train, x_test, y_train, y_test = train_test_split(x_axis, y_axis, test_size = 0.3, random_state = 1)"
      ]
    },
    {
      "cell_type": "code",
      "execution_count": 53,
      "id": "180d32fa",
      "metadata": {
        "id": "180d32fa"
      },
      "outputs": [],
      "source": [
        "# Utilizando la clase de Naive Bayes incluida en sklearn se realiza el entrenamiento con los conjuntos que ya tenemos\n",
        "naive_bayes = MultinomialNB()\n",
        "naive_bayes.fit(x_train, y_train)\n",
        "y_predicted = naive_bayes.predict(x_test) # y_predicted es el conjunto de valores correspondientes a las clases SPAM y NO SPAM"
      ]
    },
    {
      "cell_type": "code",
      "execution_count": 54,
      "id": "7d63ec05",
      "metadata": {
        "colab": {
          "base_uri": "https://localhost:8080/"
        },
        "id": "7d63ec05",
        "outputId": "db8d1031-fb7c-41b1-a7c2-be0cbfa0104d"
      },
      "outputs": [
        {
          "name": "stdout",
          "output_type": "stream",
          "text": [
            "Precision :  0.8732394366197183\n",
            "Recall :  0.9559471365638766\n",
            "Accuracy Score :  0.946520618556701\n",
            "F1 Score :  0.9127234490010515\n"
          ]
        }
      ],
      "source": [
        "# Medimos el desempeño de la clasificación\n",
        "# tp = true positive, fp = false positive, fn = false negative\n",
        "print(\"Precision : \", precision_score(y_test, y_predicted)) # tp/(tp+fp)\n",
        "print(\"Recall : \", recall_score(y_test, y_predicted)) # tp/(tp+fn)\n",
        "print(\"Accuracy Score : \", accuracy_score(y_test, y_predicted)) # t = correctly_predicted / len(y_predicted)\n",
        "print(\"F1 Score : \", f1_score(y_test, y_predicted)) # 2 * (precision * recall) / (precision + recall)"
      ]
    },
    {
      "cell_type": "code",
      "execution_count": 50,
      "id": "e564397c",
      "metadata": {
        "colab": {
          "base_uri": "https://localhost:8080/",
          "height": 449
        },
        "id": "e564397c",
        "outputId": "84ae7323-d75c-4c26-8670-7046b5ac2649"
      },
      "outputs": [
        {
          "data": {
            "image/png": "[encoded data removed]",
            "text/plain": [
              "<Figure size 640x480 with 2 Axes>"
            ]
          },
          "metadata": {},
          "output_type": "display_data"
        }
      ],
      "source": [
        "# Por último, utilizando la matriz de confusión se contrastan los resultados obtenidos\n",
        "cm_display = ConfusionMatrixDisplay(confusion_matrix = confusion_matrix(y_test, y_predicted), display_labels=['Spam', 'Not Spam'] )\n",
        "cm_display.plot()\n",
        "plt.show()"
      ]
    },
    {
      "cell_type": "code",
      "execution_count": 40,
      "id": "c4eeb39b",
      "metadata": {
        "id": "c4eeb39b"
      },
      "outputs": [],
      "source": [
        "# Para probar el modelo entrenado, se creo una funcion la cual toma una cadena y le da el formato necesario para utilizarla con el modelo\n",
        "def predict(example_mail):\n",
        "    example_mail = example_mail.lower()\n",
        "    example_mail = re.sub(r\"http\\S+\", \"\", example_mail)\n",
        "    example_mail = re.sub(\"[^a-zA-Z0-9]\",\" \", example_mail)\n",
        "    example_mail = nltk.word_tokenize(example_mail)\n",
        "    columns_names = []\n",
        "    with open('emails.csv') as csv_file:\n",
        "        csv_reader = csv.reader(csv_file, delimiter = ',')\n",
        "        for row in csv_reader:\n",
        "            columns_names.append(row)\n",
        "            break\n",
        "    columns_names[0].pop(0)\n",
        "    columns_names[0].pop(len(columns_names[0])-1)\n",
        "    dict_words = {}\n",
        "    for word in columns_names[0]:\n",
        "        dict_words[word] = 0\n",
        "    keys = list(dict_words.keys())\n",
        "    for word in example_mail:\n",
        "        if(word in keys):\n",
        "            dict_words[word] += 1\n",
        "    count_words = np.asarray(list(dict_words.values()))\n",
        "    return naive_bayes.predict([count_words])"
      ]
    },
    {
      "cell_type": "code",
      "execution_count": 46,
      "id": "fb49afcc",
      "metadata": {
        "id": "fb49afcc"
      },
      "outputs": [],
      "source": [
        "example = predict(\"You may be wondering why your antivirus cannot detect my malicious software\")"
      ]
    },
    {
      "cell_type": "code",
      "execution_count": 47,
      "id": "c1689397",
      "metadata": {
        "colab": {
          "base_uri": "https://localhost:8080/"
        },
        "id": "c1689397",
        "outputId": "5b07edd3-a0d5-4588-e2a6-0b43e717d30c"
      },
      "outputs": [
        {
          "data": {
            "text/plain": [
              "1"
            ]
          },
          "execution_count": 47,
          "metadata": {},
          "output_type": "execute_result"
        }
      ],
      "source": [
        "example[0]"
      ]
    },
    {
      "cell_type": "markdown",
      "id": "32c3WtnCNkvR",
      "metadata": {
        "id": "32c3WtnCNkvR"
      },
      "source": [
        "### Ejercicio\n",
        "Utilizado el mismo dataset que el ejemplo anterior:\n",
        "\n",
        "1. ¿Qué otros algoritmos clasificadores podrías utilizar?\n",
        "\n",
        "- Regresión logística: Este es un algoritmo de clasificación que se utiliza para predecir la probabilidad de una variable categórica dependiente. En la regresión logística, la variable dependiente es una variable binaria que contiene datos codificados como 1 (sí, éxito, etc.) o 0 (no, fracaso, etc.). En otras palabras, el modelo de regresión logística predice P(Y=1) en función de X.\n",
        "- Máquinas de vectores de soporte (SVM): Este es un algoritmo de clasificación que busca encontrar un hiperplano en un espacio N-dimensional (N - el número de características) que clasifica claramente los puntos de datos.\n",
        "- Árboles de decisión: Este es un tipo de algoritmo de aprendizaje supervisado que se utiliza principalmente para problemas de clasificación. Funciona tanto para variables categóricas como continuas de entrada y salida.\n",
        "- Bosques aleatorios: Este es un tipo de algoritmo de aprendizaje por conjuntos que se utiliza para problemas de clasificación y regresión. Un bosque aleatorio es una colección de árboles de decisión.\n",
        "2. Utiliza Multinomial Naive Bayes para clasificar el dataset\n",
        "3. Para el punto anterior, utiliza la matriz de confusión para explicar el desepeño del modelo\n",
        "\n",
        "Analizando el asificador de spam,  los cuadrantes de la matriz representan lo siguiente:\n",
        "\n",
        "Precision :  0.8732394366197183\n",
        "\n",
        "Recall :  0.9559471365638766\n",
        "\n",
        "Accuracy Score :  0.946520618556701\n",
        "\n",
        "F1 Score :  0.9127234490010515\n",
        "\n",
        "Verdaderos positivos (1035): Esta es la cantidad de correos electrónicos que fueron correctamente identificados como spam.\n",
        "Falsos positivos (63): Esta es la cantidad de correos electrónicos que fueron incorrectamente identificados como spam (es decir, no eran spam, pero el clasificador los marcó como tal).\n",
        "Falsos negativos (20): Esta es la cantidad de correos electrónicos que fueron incorrectamente identificados como no spam (es decir, eran spam, pero el clasificador no los marcó como tal).\n",
        "Verdaderos negativos (434): Esta es la cantidad de correos electrónicos que fueron correctamente identificados como no spam.\n",
        "\n",
        "Esas cuatro medidas  dan una idea completa del rendimiento del clasificador. En general, se  desea  maximizar los verdaderos positivos y verdaderos negativos (las predicciones correctas) y minimizar los falsos positivos y falsos negativos (las predicciones incorrectas).\n",
        "\n",
        "Parece ser que el  modelo tiene un buen rendimiento, ya que la mayoría de los correos electrónicos se clasificaron correctamente. Sin embargo, hay algunos correos electrónicos que se clasificaron incorrectamente. \n",
        "\n",
        "\n",
        "Otras cosas a  notar es que a diferencia de la clasificacion con GaussianNB se tieen una presicion menor 0.87 < 0.90, al igual que Accuracy  score 0.94<0.95, F1  0.91<0.93, mientras que en recall se obtiene valores iguales.\n",
        "\n",
        "Dado lo anterior con Multinomial Naive Bayes la cantidad de correos correctamente identificados como spam  (1035) es menor que los indentificados correctamente con GaussianNB (1054),   para los que fueron incorrectamente identificados como spam \n",
        "MultinomialNB tiene un numero mayor (63) que con GaussianNB (44), mientras que para falsos negativos y verdaderos negativos se mantiene igual para ambas clasificaciones.\n",
        "\n",
        "De modo que la clasificacion con MultinomialNB aunque tiene un buen rendimiento, su rendimiento es menor comparado con el clasificador GaussianNB \n",
        "\n",
        "\n",
        "Con GussianNB se tiene:\n",
        "\n",
        "Precision :  0.9079497907949791\n",
        "\n",
        "Recall :  0.9559471365638766\n",
        "\n",
        "Accuracy Score :  0.9587628865979382\n",
        "\n",
        "F1 Score :  0.9313304721030043\n",
        "\n",
        "\n",
        "La matriz de confusión proporciona la siguiente información:\n",
        "Verdaderos positivos (1054): Esta es la cantidad de correos electrónicos que fueron correctamente identificados como spam.\n",
        "Falsos positivos (44): Esta es la cantidad de correos electrónicos que fueron incorrectamente identificados como spam (es decir, no eran spam, pero el clasificador los marcó como tal).\n",
        "Falsos negativos (20): Esta es la cantidad de correos electrónicos que fueron incorrectamente identificados como no spam (es decir, eran spam, pero el clasificador no los marcó como tal).\n",
        "Verdaderos negativos (434): Esta es la cantidad de correos electrónicos que fueron correctamente identificados como no spam.\n",
        "\n"
      ]
    }
  ],
  "metadata": {
    "colab": {
      "provenance": []
    },
    "kernelspec": {
      "display_name": "Python 3 (ipykernel)",
      "language": "python",
      "name": "python3"
    },
    "language_info": {
      "codemirror_mode": {
        "name": "ipython",
        "version": 3
      },
      "file_extension": ".py",
      "mimetype": "text/x-python",
      "name": "python",
      "nbconvert_exporter": "python",
      "pygments_lexer": "ipython3",
      "version": "3.11.4"
    }
  },
  "nbformat": 4,
  "nbformat_minor": 5
}
